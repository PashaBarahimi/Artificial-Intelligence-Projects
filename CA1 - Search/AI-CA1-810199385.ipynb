{
 "cells": [
  {
   "cell_type": "markdown",
   "metadata": {},
   "source": [
    "<div dir='rtl'>\n",
    "<h1>پروژه اول</h1>\n",
    "</div>"
   ]
  },
  {
   "cell_type": "code",
   "execution_count": 3,
   "metadata": {},
   "outputs": [],
   "source": [
    "from timeit import default_timer as timer\n",
    "from copy import deepcopy, copy\n",
    "from collections import deque\n",
    "import heapq"
   ]
  },
  {
   "cell_type": "code",
   "execution_count": 4,
   "metadata": {},
   "outputs": [],
   "source": [
    "INPUT_COUNT = 3\n",
    "INPUT_PATH  = 'data/input%d.txt'\n",
    "TIMER_TEST_COUNT = 3"
   ]
  },
  {
   "cell_type": "code",
   "execution_count": 39,
   "metadata": {},
   "outputs": [],
   "source": [
    "class Graph:\n",
    "    def __init__(self, n, m):\n",
    "        self.n = n\n",
    "        self.m = m\n",
    "        self.current = 0\n",
    "        self.parent = None\n",
    "        self.adj = [set() for _ in range(n)]\n",
    "        self.difficulties = {}\n",
    "        self.requirements = {}\n",
    "        self.remainingTime = 0\n",
    "\n",
    "    def __deepcopy__(self, memo):\n",
    "        g = Graph(self.n, self.m)\n",
    "        g.current = self.current\n",
    "        g.parent = self.parent\n",
    "        g.adj = copy(self.adj)\n",
    "        g.difficulties = deepcopy(self.difficulties)\n",
    "        g.requirements = deepcopy(self.requirements)\n",
    "        g.remainingTime = self.remainingTime\n",
    "        return g\n",
    "\n",
    "    def __key(self):\n",
    "        return (self.current, self.remainingTime, self.difficulties, self.requirements, self.parent.current if self.parent else None)\n",
    "\n",
    "    def __str__(self):\n",
    "        return str(self.__key())"
   ]
  },
  {
   "cell_type": "code",
   "execution_count": 40,
   "metadata": {},
   "outputs": [],
   "source": [
    "def readInput(path):\n",
    "    with open(path, 'r', encoding='utf-8') as f:\n",
    "        n, m = map(int, f.readline().split())\n",
    "        graph = Graph(n, m)\n",
    "        for _ in range(m):\n",
    "            u, v = map(int, f.readline().split())\n",
    "            graph.adj[u - 1].add(v - 1)\n",
    "            graph.adj[v - 1].add(u - 1)\n",
    "        h = int(f.readline())\n",
    "        for _ in range(h):\n",
    "            u = int(f.readline()) - 1\n",
    "            graph.difficulties[u] = -1\n",
    "        s = int(f.readline())\n",
    "        for _ in range(s):\n",
    "            inp = f.readline().split()\n",
    "            p = int(inp[0]) - 1\n",
    "            vertices = {int(x) - 1 for x in inp[2:]}\n",
    "            graph.requirements[p] = vertices\n",
    "        i = int(f.readline()) - 1\n",
    "        graph.current = i\n",
    "    return graph"
   ]
  },
  {
   "cell_type": "code",
   "execution_count": 7,
   "metadata": {},
   "outputs": [],
   "source": [
    "g1, g2, g3 = [readInput(INPUT_PATH % i) for i in range(1, INPUT_COUNT + 1)]"
   ]
  },
  {
   "cell_type": "code",
   "execution_count": 8,
   "metadata": {},
   "outputs": [],
   "source": [
    "def searchTime(g, method):\n",
    "    sum = 0\n",
    "    for _ in range(TIMER_TEST_COUNT):\n",
    "        gCopy = deepcopy(g)\n",
    "        start = timer()\n",
    "        method(gCopy)\n",
    "        end = timer()\n",
    "        sum += end - start\n",
    "    return sum / TIMER_TEST_COUNT"
   ]
  },
  {
   "cell_type": "code",
   "execution_count": 9,
   "metadata": {},
   "outputs": [],
   "source": [
    "def moveInGraph(g, dest):\n",
    "    if dest not in g.adj[g.current]:\n",
    "        return None\n",
    "    newGraph = deepcopy(g)\n",
    "    newGraph.current = dest\n",
    "    newGraph.parent = g\n",
    "    if dest in newGraph.difficulties:\n",
    "        newGraph.difficulties[dest] += 1\n",
    "        newGraph.remainingTime = newGraph.difficulties[dest]\n",
    "    for _, vertices in newGraph.requirements.items():\n",
    "        if dest in vertices:\n",
    "            vertices.remove(dest)\n",
    "    if dest in newGraph.requirements and len(newGraph.requirements[dest]) == 0:\n",
    "        newGraph.requirements.pop(dest)\n",
    "    return newGraph\n",
    "\n",
    "\n",
    "def isGoal(g):\n",
    "    return len(g.requirements) == 0\n",
    "\n",
    "\n",
    "def getPathAndCost(g):\n",
    "    path = []\n",
    "    while g is not None:\n",
    "        path.append(g.current + 1)\n",
    "        g = g.parent\n",
    "    path.reverse()\n",
    "    additions = [0 if diff == -1 else diff for diff in g1.difficulties.values()]\n",
    "    return path, len(path) + sum(additions) - 1"
   ]
  },
  {
   "cell_type": "code",
   "execution_count": 41,
   "metadata": {},
   "outputs": [],
   "source": [
    "def bfs(g):\n",
    "    discovered = set()\n",
    "    queue = deque([g])\n",
    "    discovered.add(str(g))\n",
    "    while queue:\n",
    "        g = queue.popleft()\n",
    "        if isGoal(g):\n",
    "            return getPathAndCost(g)\n",
    "        if g.remainingTime > 0:\n",
    "            g.remainingTime -= 1\n",
    "            queue.append(g)\n",
    "            continue\n",
    "        for dest in g.adj[g.current]:\n",
    "            newState = moveInGraph(g, dest)\n",
    "            if newState is not None and str(newState) not in discovered:\n",
    "                queue.append(newState)\n",
    "                discovered.add(str(newState))\n",
    "    return None, None"
   ]
  },
  {
   "cell_type": "code",
   "execution_count": 42,
   "metadata": {},
   "outputs": [
    {
     "name": "stdout",
     "output_type": "stream",
     "text": [
      "BFS: Input 1\n",
      "Path: 1 -> 3 -> 4 -> 5 -> 7 -> 10 -> 11 -> 9 -> 8\n",
      "Cost: 8\n",
      "\n",
      "BFS: Input 2\n",
      "Path: 28 -> 19 -> 13 -> 3 -> 11 -> 24 -> 9 -> 2 -> 5 -> 7 -> 29 -> 22 -> 28\n",
      "Cost: 12\n",
      "\n",
      "BFS: Input 3\n",
      "Path: 40 -> 42 -> 38 -> 24 -> 31 -> 45 -> 30 -> 48 -> 41 -> 18 -> 1 -> 19 -> 43 -> 49 -> 47 -> 49 -> 9 -> 34 -> 25 -> 50 -> 12 -> 16\n",
      "Cost: 21\n",
      "\n"
     ]
    }
   ],
   "source": [
    "for i, g in enumerate([g1, g2, g3]):\n",
    "    print(f'BFS: Input {i + 1}')\n",
    "    path, cost = bfs(g)\n",
    "    if path is not None:\n",
    "        print('Path:', ' -> '.join(map(str, path)))\n",
    "        print('Cost:', cost)\n",
    "    else:\n",
    "        print('No solution')\n",
    "    print()"
   ]
  },
  {
   "cell_type": "code",
   "execution_count": 43,
   "metadata": {},
   "outputs": [
    {
     "name": "stdout",
     "output_type": "stream",
     "text": [
      "BFS: Input 1\n",
      "Time: 0.0067 seconds\n",
      "\n",
      "BFS: Input 2\n",
      "Time: 7.6076 seconds\n",
      "\n",
      "BFS: Input 3\n",
      "Time: 4.1647 seconds\n",
      "\n"
     ]
    }
   ],
   "source": [
    "for i, g in enumerate([g1, g2, g3]):\n",
    "    print(f'BFS: Input {i + 1}')\n",
    "    print(f'Time: {searchTime(g, bfs):.4f} seconds')\n",
    "    print()"
   ]
  }
 ],
 "metadata": {
  "kernelspec": {
   "display_name": "Python 3.11.0 64-bit",
   "language": "python",
   "name": "python3"
  },
  "language_info": {
   "codemirror_mode": {
    "name": "ipython",
    "version": 3
   },
   "file_extension": ".py",
   "mimetype": "text/x-python",
   "name": "python",
   "nbconvert_exporter": "python",
   "pygments_lexer": "ipython3",
   "version": "3.11.0"
  },
  "orig_nbformat": 4,
  "vscode": {
   "interpreter": {
    "hash": "c261aea317cc0286b3b3261fbba9abdec21eaa57589985bb7a274bf54d6cc0a7"
   }
  }
 },
 "nbformat": 4,
 "nbformat_minor": 2
}
