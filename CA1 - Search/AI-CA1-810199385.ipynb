{
 "cells": [
  {
   "attachments": {},
   "cell_type": "markdown",
   "metadata": {},
   "source": [
    "# Computer Assignment 1 (Search)"
   ]
  },
  {
   "cell_type": "code",
   "execution_count": 34,
   "metadata": {},
   "outputs": [],
   "source": [
    "from timeit import default_timer as timer\n",
    "from copy import deepcopy, copy\n",
    "from typing import Callable, Union\n",
    "from collections import deque\n",
    "import heapq"
   ]
  },
  {
   "cell_type": "code",
   "execution_count": 35,
   "metadata": {},
   "outputs": [],
   "source": [
    "INPUT_COUNT = 5\n",
    "INPUT_PATH  = 'data/input%d.txt'\n",
    "TIMER_TEST_COUNT = 3"
   ]
  },
  {
   "cell_type": "code",
   "execution_count": 36,
   "metadata": {},
   "outputs": [],
   "source": [
    "class Graph:\n",
    "    n: int\n",
    "    m: int\n",
    "    current: int\n",
    "    cost: int\n",
    "    parent: Union['Graph', None]\n",
    "    adj: list[set[int]]\n",
    "    difficulties: dict[int, int]\n",
    "    requirements: dict[int, set[int]]\n",
    "    remainingTime: int\n",
    "    \n",
    "    def __init__(self, n: int, m: int):\n",
    "        self.n = n\n",
    "        self.m = m\n",
    "        self.current = 0\n",
    "        self.cost = 0\n",
    "        self.parent = None\n",
    "        self.adj = [set() for _ in range(n)]\n",
    "        self.difficulties = {}\n",
    "        self.requirements = {}\n",
    "        self.remainingTime = 0\n",
    "\n",
    "    def __deepcopy__(self, memo: dict) -> 'Graph':\n",
    "        g = Graph(self.n, self.m)\n",
    "        g.current = self.current\n",
    "        g.cost = self.cost\n",
    "        g.parent = self.parent\n",
    "        g.adj = copy(self.adj)\n",
    "        g.difficulties = deepcopy(self.difficulties)\n",
    "        g.requirements = deepcopy(self.requirements)\n",
    "        g.remainingTime = self.remainingTime\n",
    "        return g\n",
    "\n",
    "    def __lt__(self, other: 'Graph') -> bool:\n",
    "        return self.cost < other.cost\n",
    "\n",
    "    def __key(self) -> tuple[int, dict[int, int], dict[int, set[int]]]:\n",
    "        return (self.current, self.difficulties, self.requirements)\n",
    "\n",
    "    def __str__(self) -> str:\n",
    "        return str(self.__key())\n",
    "\n",
    "    def __hash__(self) -> int:\n",
    "        return hash(self.__str__())"
   ]
  },
  {
   "attachments": {},
   "cell_type": "markdown",
   "metadata": {},
   "source": [
    "Each state is defined as a graph which contains a list of remaining devotees, a list of remaining recipes, sayid's current location, the status of passage of difficult peaks, and the remaining time to get out of the current location (if it is a difficult peak). Also, the following values are stored in each state:\n",
    "\n",
    "- `cost`: the cost of the path from the initial state to the current state\n",
    "- `parent`: the parent state of the current state\n",
    "- `edges`: the list of edges in the map\n",
    "\n",
    "We consider to states as equal if the following values are equal in both states:\n",
    "\n",
    "- sayid's current location\n",
    "- remaining devotees and remaining recipes for each devotee\n",
    "- the status of passage of difficult peaks\n",
    "\n",
    "Goal state is defined as a state in which there exists no remaining devotees and no remaining recipes.  \n",
    "\n",
    "The actions can be one of the following:\n",
    "\n",
    "- decrease the remaining time of the current location by 1 if it is a difficult peak\n",
    "- move to an adjacent location and memorize any recipe that is found there and satisfy any devotee that is found there if possible  \n",
    "\n",
    "Initial state is the input graph with all the values given in the input file."
   ]
  },
  {
   "cell_type": "code",
   "execution_count": 37,
   "metadata": {},
   "outputs": [],
   "source": [
    "def readInput(path: str) -> Graph:\n",
    "    with open(path, 'r', encoding='utf-8') as f:\n",
    "        n, m = map(int, f.readline().split())\n",
    "        graph = Graph(n, m)\n",
    "        for _ in range(m):\n",
    "            u, v = map(int, f.readline().split())\n",
    "            graph.adj[u - 1].add(v - 1)\n",
    "            graph.adj[v - 1].add(u - 1)\n",
    "        _ = int(f.readline())\n",
    "        difficulties = map(int, f.readline().split())\n",
    "        for d in difficulties:\n",
    "            graph.difficulties[d - 1] = -1\n",
    "        s = int(f.readline())\n",
    "        for _ in range(s):\n",
    "            inp = f.readline().split()\n",
    "            p = int(inp[0]) - 1\n",
    "            vertices = {int(x) - 1 for x in inp[2:]}\n",
    "            graph.requirements[p] = vertices\n",
    "        i = int(f.readline()) - 1\n",
    "        graph.current = i\n",
    "        if i in graph.difficulties:\n",
    "            graph.difficulties[i] += 1\n",
    "        for u, vertices in graph.requirements.items():\n",
    "            if i in vertices:\n",
    "                vertices.remove(i)\n",
    "        if i in graph.requirements and len(graph.requirements[i]) == 0:\n",
    "            del graph.requirements[i]\n",
    "    return graph"
   ]
  },
  {
   "cell_type": "code",
   "execution_count": 38,
   "metadata": {},
   "outputs": [],
   "source": [
    "inputs = [readInput(INPUT_PATH % i) for i in range(1, INPUT_COUNT + 1)]"
   ]
  },
  {
   "attachments": {},
   "cell_type": "markdown",
   "metadata": {},
   "source": [
    "Inputs are given in `data` folder and are in `input#.txt` format. They are as follows:\n",
    "\n",
    "- `input1.txt`: the first test case in both simple and main tests\n",
    "- `input2.txt`: the second test case in simple tests\n",
    "- `input3.txt`: the third test case in simple tests\n",
    "- `input4.txt`: the second test case in main tests\n",
    "- `input5.txt`: the third test case in main tests"
   ]
  },
  {
   "cell_type": "code",
   "execution_count": 39,
   "metadata": {},
   "outputs": [],
   "source": [
    "def searchTime(g: Graph, method: Callable[[Graph], tuple[list[int] | None, int | None, int]]) -> float:\n",
    "    sum = 0\n",
    "    for _ in range(TIMER_TEST_COUNT):\n",
    "        gCopy = deepcopy(g)\n",
    "        start = timer()\n",
    "        method(gCopy)\n",
    "        end = timer()\n",
    "        sum += end - start\n",
    "    return sum / TIMER_TEST_COUNT"
   ]
  },
  {
   "cell_type": "code",
   "execution_count": 40,
   "metadata": {},
   "outputs": [],
   "source": [
    "def moveInGraph(g: Graph, dest: int) -> Graph | None:\n",
    "    if dest not in g.adj[g.current]:\n",
    "        return None\n",
    "    newGraph = deepcopy(g)\n",
    "    newGraph.current = dest\n",
    "    newGraph.cost += 1\n",
    "    newGraph.parent = g\n",
    "    if dest in newGraph.difficulties:\n",
    "        newGraph.difficulties[dest] += 1\n",
    "        newGraph.remainingTime = newGraph.difficulties[dest]\n",
    "    for _, vertices in newGraph.requirements.items():\n",
    "        if dest in vertices:\n",
    "            vertices.remove(dest)\n",
    "    if dest in newGraph.requirements and len(newGraph.requirements[dest]) == 0:\n",
    "        newGraph.requirements.pop(dest)\n",
    "    return newGraph\n",
    "\n",
    "\n",
    "def isGoal(g: Graph) -> bool:\n",
    "    return len(g.requirements) == 0\n",
    "\n",
    "\n",
    "def getPath(g: Graph | None) -> list[int]:\n",
    "    path = []\n",
    "    while g is not None:\n",
    "        path.append(g.current + 1)\n",
    "        g = g.parent\n",
    "    path.reverse()\n",
    "    return path"
   ]
  },
  {
   "cell_type": "code",
   "execution_count": 41,
   "metadata": {},
   "outputs": [],
   "source": [
    "def bfs(g: Graph) -> tuple[list[int] | None, int | None, int]:\n",
    "    if isGoal(g):\n",
    "        return getPath(g), g.cost,1\n",
    "    discovered = set()\n",
    "    queue = deque([g])\n",
    "    discovered.add(str(g))\n",
    "    while queue:\n",
    "        g = queue.popleft()\n",
    "        if g.remainingTime > 0:\n",
    "            g.remainingTime -= 1\n",
    "            g.cost += 1\n",
    "            queue.append(g)\n",
    "            continue\n",
    "        for dest in g.adj[g.current]:\n",
    "            newState = moveInGraph(g, dest)\n",
    "            if newState is None:\n",
    "                continue\n",
    "            if isGoal(newState):\n",
    "                return getPath(newState), newState.cost, len(discovered)\n",
    "            if str(newState) not in discovered:\n",
    "                queue.append(newState)\n",
    "                discovered.add(str(newState))\n",
    "    return None, None, len(discovered)"
   ]
  },
  {
   "attachments": {},
   "cell_type": "markdown",
   "metadata": {},
   "source": [
    "We know that passing an edge will take 1 second. If we are stuck in a difficult peak and `n` seconds are remaining to get out of it, we will expand the current state `n` times. For example, if we are stuck in a difficult peak and 5 seconds are left to get out of it, the current state will be repeated for 5 depths in the search tree, and in the $6^{th}$ depth, we can move to an adjacent location. This method results in not choosing a wrong path through a difficult peak. As a result, the `BFS` algorithm will be able to find the optimal solution."
   ]
  },
  {
   "cell_type": "code",
   "execution_count": 57,
   "metadata": {},
   "outputs": [
    {
     "name": "stdout",
     "output_type": "stream",
     "text": [
      "BFS: Input 1\n",
      "Path: 1 -> 3 -> 4 -> 5 -> 7 -> 10 -> 11 -> 9 -> 8\n",
      "Cost: 8\n",
      "Total Visited States: 78\n",
      "Time: 0.0069 seconds\n",
      "\n",
      "BFS: Input 2\n",
      "Path: 9 -> 10 -> 9 -> 4 -> 12 -> 3 -> 7 -> 5 -> 8\n",
      "Cost: 8\n",
      "Total Visited States: 115\n",
      "Time: 0.0098 seconds\n",
      "\n",
      "BFS: Input 3\n",
      "Path: 13 -> 11 -> 10 -> 3 -> 2 -> 6 -> 12 -> 5 -> 9 -> 4 -> 1 -> 13 -> 11 -> 10\n",
      "Cost: 13\n",
      "Total Visited States: 1769\n",
      "Time: 0.1697 seconds\n",
      "\n",
      "BFS: Input 4\n",
      "Path: 28 -> 19 -> 13 -> 3 -> 11 -> 24 -> 9 -> 2 -> 5 -> 7 -> 29 -> 22 -> 28\n",
      "Cost: 12\n",
      "Total Visited States: 7536\n",
      "Time: 1.5185 seconds\n",
      "\n",
      "BFS: Input 5\n",
      "Path: 40 -> 42 -> 38 -> 24 -> 31 -> 45 -> 30 -> 48 -> 41 -> 18 -> 1 -> 19 -> 43 -> 49 -> 47 -> 49 -> 9 -> 34 -> 25 -> 50 -> 12 -> 16\n",
      "Cost: 21\n",
      "Total Visited States: 10630\n",
      "Time: 1.2077 seconds\n",
      "\n"
     ]
    }
   ],
   "source": [
    "for i, g in enumerate(inputs):\n",
    "    gCopy = deepcopy(g)\n",
    "    print(f'BFS: Input {i + 1}')\n",
    "    path, cost, stateCount = bfs(gCopy)\n",
    "    if path is not None:\n",
    "        print('Path:', ' -> '.join(map(str, path)))\n",
    "        print('Cost:', cost)\n",
    "        print('Total Visited States:', stateCount)\n",
    "        print(f'Time: {searchTime(g, bfs):.4f} seconds')\n",
    "    else:\n",
    "        print('No solution')\n",
    "    print()"
   ]
  },
  {
   "attachments": {},
   "cell_type": "markdown",
   "metadata": {},
   "source": [
    "The run time of the algorithm is much less than the time limit."
   ]
  },
  {
   "cell_type": "code",
   "execution_count": 43,
   "metadata": {},
   "outputs": [],
   "source": [
    "def dfs(g: Graph, depth: int, discovered: set, visited: set) -> Graph | None:\n",
    "    if isGoal(g):\n",
    "        return g\n",
    "    if depth <= 0:\n",
    "        return None\n",
    "    remainingTime = g.remainingTime\n",
    "    if remainingTime > 0:\n",
    "        g.remainingTime = 0\n",
    "        g.cost += remainingTime\n",
    "        if depth <= remainingTime + 1:\n",
    "            return None\n",
    "    children = set()\n",
    "    for dest in g.adj[g.current]:\n",
    "        newState = moveInGraph(g, dest)\n",
    "        if newState is None:\n",
    "            continue\n",
    "        if str(newState) in visited:\n",
    "            continue\n",
    "        children.add(((newState, str(newState))))\n",
    "        discovered.add(str(newState))\n",
    "        visited.add(str(newState))\n",
    "    for child, _ in children:\n",
    "        ans = dfs(child, depth - 1 - remainingTime, discovered, visited)\n",
    "        if ans is not None:\n",
    "            return ans\n",
    "    \n",
    "    for _, key in children:\n",
    "        visited.remove(str(key))\n",
    "    return None\n",
    "\n",
    "\n",
    "def ids(g: Graph) -> tuple[list[int] | None, int | None, int]:\n",
    "    depth = 0\n",
    "    while True:\n",
    "        discovered = set()\n",
    "        discovered.add(str(g))\n",
    "        visited = set()\n",
    "        visited.add(str(g))\n",
    "        ans = dfs(g, depth, discovered, visited)\n",
    "        if ans is not None:\n",
    "            return getPath(ans), ans.cost, len(discovered)\n",
    "        # print(f'IDS: Depth {depth} - Visited States: {len(discovered)}')\n",
    "        depth += 1"
   ]
  },
  {
   "attachments": {},
   "cell_type": "markdown",
   "metadata": {},
   "source": [
    "The `DFS` algorithm will not give us the optimal solution because a better path may be found later in the search tree. However, when we use the `IDS` algorithm, we will be able to find the optimal solution. his is because the `IDS` algorithm will search the tree in depth-first manner, but it will limit the depth of the search tree. As a result, if a better path has existed in the tree, it would have been found in the previous depths  \n",
    "\n",
    "This algorithm will visit many states (increasing exponentially with the depth of the search tree) and only a small percentage of them are not repeated.  \n",
    "\n",
    "If we uncomment the `print` statements in the code, the number of non-repeated states will be shown. Also, if we change the type of `discovered` from `set` to `list`, the total number of states will be shown. These numbers are presented below for `input4.txt`:\n",
    "\n",
    "- Depth = 6 : 90k total states, 1k non-repeated states\n",
    "- Depth = 7 : 660k total states, 2k non-repeated states\n",
    "- Depth = 8 : 4.8M total states, 3k non-repeated states\n",
    "\n",
    "If we continue to increase the depth, the number of total states will be more than 5 billion in the $12^{th}$ depth. As a result, the algorithm will take a long time to find the optimal solution for `input4.txt` and `input5.txt`."
   ]
  },
  {
   "cell_type": "code",
   "execution_count": 58,
   "metadata": {},
   "outputs": [
    {
     "name": "stdout",
     "output_type": "stream",
     "text": [
      "IDS: Input 1\n",
      "Path: 1 -> 3 -> 4 -> 5 -> 7 -> 10 -> 11 -> 9 -> 8\n",
      "Cost: 8\n",
      "Total Visited States: 76\n",
      "Time: 0.0135 seconds\n",
      "\n",
      "IDS: Input 2\n",
      "Path: 9 -> 10 -> 2 -> 4 -> 12 -> 3 -> 7 -> 5 -> 8\n",
      "Cost: 8\n",
      "Total Visited States: 88\n",
      "Time: 0.0541 seconds\n",
      "\n",
      "IDS: Input 3\n",
      "Path: 13 -> 11 -> 10 -> 3 -> 2 -> 6 -> 12 -> 5 -> 9 -> 4 -> 1 -> 13 -> 11 -> 10\n",
      "Cost: 13\n",
      "Total Visited States: 1521\n",
      "Time: 1.5436 seconds\n",
      "\n"
     ]
    }
   ],
   "source": [
    "for i, g in enumerate(inputs[:3]): # remove [:3] to run all inputs (takes a long time =] )\n",
    "    gCopy = deepcopy(g)\n",
    "    print(f'IDS: Input {i + 1}')\n",
    "    path, cost, stateCount = ids(gCopy)\n",
    "    if path is not None:\n",
    "        print('Path:', ' -> '.join(map(str, path)))\n",
    "        print('Cost:', cost)\n",
    "        print('Total Visited States:', stateCount)\n",
    "        print(f'Time: {searchTime(g, ids):.4f} seconds')\n",
    "    else:\n",
    "        print('No solution')\n",
    "    print()"
   ]
  },
  {
   "attachments": {},
   "cell_type": "markdown",
   "metadata": {},
   "source": [
    "Despite the fact that no limit is mentioned in the problem for `IDS` algorithm, the algorithm takes a reasonable amount of time to find the optimal solution for simple tests.  \n",
    "\n",
    "I decided to run the algorithm for `input4.txt` and `input5.txt` in a private server with 1 core and 2 GB RAM. The results are presented in the following image:"
   ]
  },
  {
   "cell_type": "markdown",
   "metadata": {},
   "source": [
    "![IDS](./assets/IDS%20Results.png)"
   ]
  },
  {
   "cell_type": "code",
   "execution_count": 50,
   "metadata": {},
   "outputs": [],
   "source": [
    "def heuristic(g: Graph) -> int:\n",
    "    remainingCount = set()\n",
    "    for r, vertices in g.requirements.items():\n",
    "        remainingCount.add(r)\n",
    "        remainingCount.update(vertices)\n",
    "    return len(remainingCount)\n",
    "\n",
    "def aStar(g: Graph, alpha: float = 1) -> tuple[list[int] | None, int | None, int]:\n",
    "    q = []\n",
    "    heapq.heappush(q, (0, g))\n",
    "    discovered = set()\n",
    "    discovered.add(str(g))\n",
    "    while q:\n",
    "        _, g = heapq.heappop(q)\n",
    "        if isGoal(g):\n",
    "            return getPath(g), g.cost, len(discovered)\n",
    "        if g.remainingTime > 0:\n",
    "            g.remainingTime -= 1\n",
    "            g.cost += 1\n",
    "            heapq.heappush(q, (g.cost + alpha * heuristic(g), g))\n",
    "            continue\n",
    "        for dest in g.adj[g.current]:\n",
    "            newState = moveInGraph(g, dest)\n",
    "            if newState is None:\n",
    "                continue\n",
    "            if str(newState) not in discovered:\n",
    "                heapq.heappush(q, (newState.cost + alpha * heuristic(newState), newState))\n",
    "                discovered.add(str(newState))\n",
    "    return None, None, len(discovered)"
   ]
  },
  {
   "attachments": {},
   "cell_type": "markdown",
   "metadata": {},
   "source": [
    "For heuristic, I consider the number of remaining devotees and the number of remaining recipes. However, it is important to note that these values will be considered for unique vertices. For example, if there are 2 devotees in a vertex, and there are no recipes left, the heuristic value will be 1.  \n",
    "\n",
    "Proving the consistency of the heuristic:  \n",
    "\n",
    "Consider two states `A` and `C` in which `C` is one of the grandchildren of `A`. Also, consider the number of remaining vertices (devotees and recipes unique vertices) in `A` and `C` to be `n` and `m` respectively. In this case, we should pass at least `n-m` edges to reach `C` from `A`. As a result, We know that passing each edge will take 1 second. Therefore, we can say: $$cost(A\\ to\\ C) \\geq n-m = h(A) - h(C)$$\n",
    "\n",
    "As a result, the heuristic is consistent.  \n",
    "\n",
    "Also, we could use `MST` algorithm as a heuristic. In this case, for each state, we will find the minimum spanning tree of the remaining vertices. Although this is a better heuristic, it will take a long time.  \n",
    "\n",
    "`A*` algorithm will be able to find the optimal solution if the following conditions are met:\n",
    "\n",
    "- The heuristic is consistent\n",
    "- Goal test should be done when popping a state from the frontier\n",
    "\n",
    "As both conditions are met, `A*` algorithm will be able to find the optimal solution."
   ]
  },
  {
   "cell_type": "code",
   "execution_count": 49,
   "metadata": {},
   "outputs": [
    {
     "name": "stdout",
     "output_type": "stream",
     "text": [
      "A*: Input 1\n",
      "Path: 1 -> 3 -> 4 -> 5 -> 7 -> 10 -> 11 -> 9 -> 8\n",
      "Cost: 8\n",
      "Total Visited States: 78\n",
      "Time: 0.0028 seconds\n",
      "\n",
      "A*: Input 2\n",
      "Path: 9 -> 10 -> 2 -> 4 -> 12 -> 3 -> 7 -> 5 -> 8\n",
      "Cost: 8\n",
      "Total Visited States: 88\n",
      "Time: 0.0089 seconds\n",
      "\n",
      "A*: Input 3\n",
      "Path: 13 -> 11 -> 10 -> 3 -> 2 -> 6 -> 12 -> 5 -> 9 -> 4 -> 1 -> 13 -> 11 -> 10\n",
      "Cost: 13\n",
      "Total Visited States: 711\n",
      "Time: 0.0576 seconds\n",
      "\n",
      "A*: Input 4\n",
      "Path: 28 -> 19 -> 13 -> 3 -> 11 -> 24 -> 9 -> 27 -> 5 -> 7 -> 29 -> 22 -> 28\n",
      "Cost: 12\n",
      "Total Visited States: 2670\n",
      "Time: 0.4009 seconds\n",
      "\n",
      "A*: Input 5\n",
      "Path: 40 -> 42 -> 38 -> 24 -> 31 -> 45 -> 30 -> 48 -> 41 -> 18 -> 1 -> 19 -> 43 -> 49 -> 47 -> 49 -> 9 -> 34 -> 25 -> 50 -> 12 -> 16\n",
      "Cost: 21\n",
      "Total Visited States: 7894\n",
      "Time: 1.1771 seconds\n",
      "\n"
     ]
    }
   ],
   "source": [
    "for i, g in enumerate(inputs):\n",
    "    gCopy = deepcopy(g)\n",
    "    print(f'A*: Input {i + 1}')\n",
    "    path, cost, stateCount = aStar(gCopy)\n",
    "    if path is not None:\n",
    "        print('Path:', ' -> '.join(map(str, path)))\n",
    "        print('Cost:', cost)\n",
    "        print('Total Visited States:', stateCount)\n",
    "        print(f'Time: {searchTime(g, lambda g: aStar(g, 1)):.4f} seconds')\n",
    "    else:\n",
    "        print('No solution')\n",
    "    print()"
   ]
  },
  {
   "attachments": {},
   "cell_type": "markdown",
   "metadata": {},
   "source": [
    "As it can be seen above, the `A*` algorithm has a great performance. It is able to find the optimal solution for all tests in a reasonable amount of time (less than the time limit).  \n",
    "\n",
    "All of the algorithms that are used until now, will be able to find the optimal solution. However, the `A*` algorithm has the best performance.  \n",
    "\n",
    "The next difference is the memory usage. The `BFS` and `A*` algorithms use exponential memory. On the other hand, the `IDS` algorithm uses linear memory. In this case, we will have no problem with the memory usage."
   ]
  },
  {
   "cell_type": "code",
   "execution_count": 52,
   "metadata": {},
   "outputs": [
    {
     "name": "stdout",
     "output_type": "stream",
     "text": [
      "A* (alpha = 1.2): Input 1\n",
      "Path: 1 -> 3 -> 4 -> 5 -> 7 -> 10 -> 11 -> 9 -> 8\n",
      "Cost: 8\n",
      "Total Visited States: 52\n",
      "Time: 0.0012 seconds\n",
      "\n",
      "A* (alpha = 1.2): Input 2\n",
      "Path: 9 -> 10 -> 2 -> 4 -> 12 -> 3 -> 7 -> 5 -> 8\n",
      "Cost: 8\n",
      "Total Visited States: 55\n",
      "Time: 0.0037 seconds\n",
      "\n",
      "A* (alpha = 1.2): Input 3\n",
      "Path: 13 -> 11 -> 10 -> 3 -> 2 -> 6 -> 12 -> 5 -> 9 -> 4 -> 1 -> 13 -> 11 -> 10\n",
      "Cost: 13\n",
      "Total Visited States: 425\n",
      "Time: 0.0089 seconds\n",
      "\n",
      "A* (alpha = 1.2): Input 4\n",
      "Path: 28 -> 23 -> 9 -> 24 -> 11 -> 3 -> 13 -> 23 -> 5 -> 7 -> 29 -> 22 -> 28\n",
      "Cost: 12\n",
      "Total Visited States: 436\n",
      "Time: 0.0055 seconds\n",
      "\n",
      "A* (alpha = 1.2): Input 5\n",
      "Path: 40 -> 42 -> 38 -> 24 -> 31 -> 45 -> 30 -> 48 -> 41 -> 18 -> 1 -> 19 -> 43 -> 49 -> 47 -> 49 -> 9 -> 34 -> 25 -> 50 -> 12 -> 16\n",
      "Cost: 21\n",
      "Total Visited States: 6565\n",
      "Time: 0.3648 seconds\n",
      "\n"
     ]
    }
   ],
   "source": [
    "for i, g in enumerate(inputs):\n",
    "    gCopy = deepcopy(g)\n",
    "    print(f'A* (alpha = 1.2): Input {i + 1}')\n",
    "    path, cost, stateCount = aStar(gCopy, 1.2)\n",
    "    if path is not None:\n",
    "        print('Path:', ' -> '.join(map(str, path)))\n",
    "        print('Cost:', cost)\n",
    "        print('Total Visited States:', stateCount)\n",
    "        print(f'Time: {searchTime(g, lambda g: aStar(g, 2)):.4f} seconds')\n",
    "    else:\n",
    "        print('No solution')\n",
    "    print()"
   ]
  },
  {
   "attachments": {},
   "cell_type": "markdown",
   "metadata": {},
   "source": [
    "The number of visited states and the run time of the `Weighted A*` algorithm is much less than the `A*` algorithm. This is because the heuristic will be multiplied by a constant value in order to make it more realistic.  \n",
    "\n",
    "In this test, the `Weighted A*` algorithm has given us the optimal solution. However, it is not guaranteed that it will give us the optimal solution in all cases."
   ]
  },
  {
   "cell_type": "code",
   "execution_count": 51,
   "metadata": {},
   "outputs": [
    {
     "name": "stdout",
     "output_type": "stream",
     "text": [
      "A* (alpha = 1.4): Input 1\n",
      "Path: 1 -> 3 -> 4 -> 5 -> 7 -> 10 -> 11 -> 9 -> 8\n",
      "Cost: 8\n",
      "Total Visited States: 52\n",
      "Time: 0.0021 seconds\n",
      "\n",
      "A* (alpha = 1.4): Input 2\n",
      "Path: 9 -> 10 -> 2 -> 4 -> 12 -> 3 -> 7 -> 5 -> 8\n",
      "Cost: 8\n",
      "Total Visited States: 46\n",
      "Time: 0.0015 seconds\n",
      "\n",
      "A* (alpha = 1.4): Input 3\n",
      "Path: 13 -> 11 -> 10 -> 3 -> 2 -> 6 -> 12 -> 5 -> 9 -> 4 -> 1 -> 13 -> 11 -> 10\n",
      "Cost: 13\n",
      "Total Visited States: 254\n",
      "Time: 0.0084 seconds\n",
      "\n",
      "A* (alpha = 1.4): Input 4\n",
      "Path: 28 -> 19 -> 3 -> 11 -> 24 -> 9 -> 2 -> 5 -> 7 -> 29 -> 20 -> 13 -> 23 -> 28\n",
      "Cost: 13\n",
      "Total Visited States: 213\n",
      "Time: 0.0052 seconds\n",
      "\n",
      "A* (alpha = 1.4): Input 5\n",
      "Path: 40 -> 42 -> 38 -> 24 -> 31 -> 45 -> 30 -> 48 -> 41 -> 18 -> 1 -> 19 -> 43 -> 49 -> 47 -> 49 -> 9 -> 34 -> 25 -> 50 -> 12 -> 16\n",
      "Cost: 21\n",
      "Total Visited States: 5752\n",
      "Time: 0.4214 seconds\n",
      "\n"
     ]
    }
   ],
   "source": [
    "for i, g in enumerate(inputs):\n",
    "    gCopy = deepcopy(g)\n",
    "    print(f'A* (alpha = 1.4): Input {i + 1}')\n",
    "    path, cost, stateCount = aStar(gCopy, 1.4)\n",
    "    if path is not None:\n",
    "        print('Path:', ' -> '.join(map(str, path)))\n",
    "        print('Cost:', cost)\n",
    "        print('Total Visited States:', stateCount)\n",
    "        print(f'Time: {searchTime(g, lambda g: aStar(g, 2)):.4f} seconds')\n",
    "    else:\n",
    "        print('No solution')\n",
    "    print()"
   ]
  },
  {
   "attachments": {},
   "cell_type": "markdown",
   "metadata": {},
   "source": [
    "As it is shown above, the `Weighted A*` algorithm has not given us the optimal solution for $\\alpha = 1.4$. In `input4.txt`, the algorithm has found a solution with a cost of 13, while the optimal solution has a cost of 12.  \n",
    "\n",
    "In conclusion, the `Weighted A*` can have a great performance if the value of $\\alpha$ is chosen properly. However, it is not guaranteed that it will give us the optimal solution in all cases.  \n",
    "\n",
    "The results are shown in the following tables:"
   ]
  },
  {
   "attachments": {},
   "cell_type": "markdown",
   "metadata": {},
   "source": [
    "## input1.txt"
   ]
  },
  {
   "cell_type": "markdown",
   "metadata": {},
   "source": [
    "|                            | Minimum Cost | Number of Visited States | Execution Time |\n",
    "|         :----:             |    :----:    |          :----:          |     :----:     |\n",
    "|          BFS               |      8       |            78            |     0.0069s    |\n",
    "|          IDS               |      8       |            76            |     0.0135s    |\n",
    "|           A*               |      8       |            78            |     0.0028s    |\n",
    "| Weighted A* $(\\alpha=1.2)$ |      8       |            52            |     0.0012s    |\n",
    "| Weighted A* $(\\alpha=1.4)$ |      8       |            52            |     0.0021s    |"
   ]
  },
  {
   "attachments": {},
   "cell_type": "markdown",
   "metadata": {},
   "source": [
    "## input2.txt"
   ]
  },
  {
   "cell_type": "markdown",
   "metadata": {},
   "source": [
    "|                            | Minimum Cost | Number of Visited States | Execution Time |\n",
    "|         :----:             |    :----:    |          :----:          |     :----:     |\n",
    "|          BFS               |      8       |           115            |     0.0098s    |\n",
    "|          IDS               |      8       |            88            |     0.0541s    |\n",
    "|           A*               |      8       |            88            |     0.0089s    |\n",
    "| Weighted A* $(\\alpha=1.2)$ |      8       |            55            |     0.0037s    |\n",
    "| Weighted A* $(\\alpha=1.4)$ |      8       |            46            |     0.0015s    |"
   ]
  },
  {
   "attachments": {},
   "cell_type": "markdown",
   "metadata": {},
   "source": [
    "## input3.txt"
   ]
  },
  {
   "cell_type": "markdown",
   "metadata": {},
   "source": [
    "|                            | Minimum Cost | Number of Visited States | Execution Time |\n",
    "|         :----:             |    :----:    |          :----:          |     :----:     |\n",
    "|          BFS               |      13      |           1769           |     0.1697s    |\n",
    "|          IDS               |      13      |           1521           |     1.5436s    |\n",
    "|           A*               |      13      |           711            |     0.0576s    |\n",
    "| Weighted A* $(\\alpha=1.2)$ |      13      |           425            |     0.0089s    |\n",
    "| Weighted A* $(\\alpha=1.4)$ |      13      |           254            |     0.0084s    |"
   ]
  },
  {
   "attachments": {},
   "cell_type": "markdown",
   "metadata": {},
   "source": [
    "## input4.txt"
   ]
  },
  {
   "cell_type": "markdown",
   "metadata": {},
   "source": [
    "|                            | Minimum Cost | Number of Visited States | Execution Time |\n",
    "|         :----:             |    :----:    |          :----:          |     :----:     |\n",
    "|          BFS               |      12      |           7536           |     1.5185s    |\n",
    "|          IDS               |      12      |           6266           |    1h42m22s    |\n",
    "|           A*               |      12      |           2670           |     0.4009s    |\n",
    "| Weighted A* $(\\alpha=1.2)$ |      12      |           436            |     0.0055s    |\n",
    "| Weighted A* $(\\alpha=1.4)$ |      13      |           213            |     0.0052s    |"
   ]
  },
  {
   "attachments": {},
   "cell_type": "markdown",
   "metadata": {},
   "source": [
    "## input5.txt"
   ]
  },
  {
   "cell_type": "markdown",
   "metadata": {},
   "source": [
    "|                            | Minimum Cost | Number of Visited States | Execution Time |\n",
    "|         :----:             |    :----:    |          :----:          |     :----:     |\n",
    "|          BFS               |      21      |           10630          |     1.2077s    |\n",
    "|          IDS               |      21      |           10465          |    14h24m39s   |\n",
    "|           A*               |      21      |           7894           |     1.1771s    |\n",
    "| Weighted A* $(\\alpha=1.2)$ |      21      |           6565           |     0.3648s    |\n",
    "| Weighted A* $(\\alpha=1.4)$ |      21      |           5752           |     0.4214s    |"
   ]
  }
 ],
 "metadata": {
  "kernelspec": {
   "display_name": "Python 3.11.0 64-bit",
   "language": "python",
   "name": "python3"
  },
  "language_info": {
   "codemirror_mode": {
    "name": "ipython",
    "version": 3
   },
   "file_extension": ".py",
   "mimetype": "text/x-python",
   "name": "python",
   "nbconvert_exporter": "python",
   "pygments_lexer": "ipython3",
   "version": "3.11.0"
  },
  "orig_nbformat": 4,
  "vscode": {
   "interpreter": {
    "hash": "c261aea317cc0286b3b3261fbba9abdec21eaa57589985bb7a274bf54d6cc0a7"
   }
  }
 },
 "nbformat": 4,
 "nbformat_minor": 2
}
