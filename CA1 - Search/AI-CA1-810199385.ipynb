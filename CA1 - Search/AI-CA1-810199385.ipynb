{
 "cells": [
  {
   "cell_type": "markdown",
   "metadata": {},
   "source": [
    "<div dir='rtl'>\n",
    "<h1>پروژه اول</h1>\n",
    "</div>"
   ]
  },
  {
   "cell_type": "code",
   "execution_count": 6,
   "metadata": {},
   "outputs": [],
   "source": [
    "from collections import deque\n",
    "import heapq"
   ]
  },
  {
   "cell_type": "code",
   "execution_count": 1,
   "metadata": {},
   "outputs": [],
   "source": [
    "INPUT_COUNT = 3\n",
    "INPUT_PATH  = 'data/input%d.txt'"
   ]
  },
  {
   "cell_type": "code",
   "execution_count": 2,
   "metadata": {},
   "outputs": [],
   "source": [
    "class Graph:\n",
    "    def __init__(self, n, m):\n",
    "        self.n = n\n",
    "        self.m = m\n",
    "        self.initial = 0\n",
    "        self.adj = [set() for _ in range(n)]\n",
    "        self.difficulties = {}\n",
    "        self.special = {}\n",
    "        self.visited = [False for _ in range(n)]\n",
    "\n",
    "    def set_initial(self, initial):\n",
    "        self.initial = initial\n",
    "        \n",
    "    def add_edge(self, u, v):\n",
    "        self.adj[u].add(v)\n",
    "        self.adj[v].add(u)\n",
    "\n",
    "    def add_special(self, u, vertices):\n",
    "        self.special[u] = vertices\n",
    "\n",
    "    def add_difficulty(self, u):\n",
    "        self.difficulties[u] = 0\n",
    "\n",
    "    def reset(self):\n",
    "        self.visited = [False for _ in range(self.n)]\n",
    "        self.difficulties = {i: 0 for i in self.difficulties.keys()}"
   ]
  },
  {
   "cell_type": "code",
   "execution_count": 3,
   "metadata": {},
   "outputs": [],
   "source": [
    "def readInput(path):\n",
    "    with open(path, 'r', encoding='utf-8') as f:\n",
    "        n, m = map(int, f.readline().split())\n",
    "        graph = Graph(n, m)\n",
    "        for _ in range(m):\n",
    "            u, v = map(int, f.readline().split())\n",
    "            graph.add_edge(u - 1, v - 1)\n",
    "        h = int(f.readline())\n",
    "        for _ in range(h):\n",
    "            u = int(f.readline()) - 1\n",
    "            graph.add_difficulty(u)\n",
    "        s = int(f.readline())\n",
    "        for _ in range(s):\n",
    "            inp = f.readline().split()\n",
    "            p = int(inp[0]) - 1\n",
    "            vertices = {int(x) - 1 for x in inp[2:]}\n",
    "            graph.add_special(p, vertices)\n",
    "        i = int(f.readline())\n",
    "        graph.set_initial(i - 1)\n",
    "    return graph"
   ]
  },
  {
   "cell_type": "code",
   "execution_count": 4,
   "metadata": {},
   "outputs": [],
   "source": [
    "g1, g2, g3 = [readInput(INPUT_PATH % i) for i in range(1, INPUT_COUNT + 1)]"
   ]
  }
 ],
 "metadata": {
  "kernelspec": {
   "display_name": "Python 3.11.0 64-bit",
   "language": "python",
   "name": "python3"
  },
  "language_info": {
   "codemirror_mode": {
    "name": "ipython",
    "version": 3
   },
   "file_extension": ".py",
   "mimetype": "text/x-python",
   "name": "python",
   "nbconvert_exporter": "python",
   "pygments_lexer": "ipython3",
   "version": "3.11.0"
  },
  "orig_nbformat": 4,
  "vscode": {
   "interpreter": {
    "hash": "c261aea317cc0286b3b3261fbba9abdec21eaa57589985bb7a274bf54d6cc0a7"
   }
  }
 },
 "nbformat": 4,
 "nbformat_minor": 2
}
