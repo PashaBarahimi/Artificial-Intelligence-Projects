{
 "cells": [
  {
   "cell_type": "markdown",
   "metadata": {},
   "source": [
    "<div dir='rtl'>\n",
    "<h1>پروژه اول</h1>\n",
    "</div>"
   ]
  },
  {
   "cell_type": "code",
   "execution_count": 34,
   "metadata": {},
   "outputs": [],
   "source": [
    "from timeit import default_timer as timer\n",
    "from copy import deepcopy, copy\n",
    "from typing import Callable, Union\n",
    "from dataclasses import dataclass\n",
    "from collections import deque\n",
    "import heapq"
   ]
  },
  {
   "cell_type": "code",
   "execution_count": 35,
   "metadata": {},
   "outputs": [],
   "source": [
    "INPUT_COUNT = 5\n",
    "INPUT_PATH  = 'data/input%d.txt'\n",
    "TIMER_TEST_COUNT = 3"
   ]
  },
  {
   "cell_type": "code",
   "execution_count": 36,
   "metadata": {},
   "outputs": [],
   "source": [
    "@dataclass\n",
    "class Graph:\n",
    "    n: int\n",
    "    m: int\n",
    "    current: int\n",
    "    cost: int\n",
    "    parent: Union['Graph', None]\n",
    "    adj: list[set[int]]\n",
    "    difficulties: dict[int, int]\n",
    "    requirements: dict[int, set[int]]\n",
    "    remainingTime: int\n",
    "    \n",
    "    def __init__(self, n: int, m: int):\n",
    "        self.n = n\n",
    "        self.m = m\n",
    "        self.current = 0\n",
    "        self.cost = 0\n",
    "        self.parent = None\n",
    "        self.adj = [set() for _ in range(n)]\n",
    "        self.difficulties = {}\n",
    "        self.requirements = {}\n",
    "        self.remainingTime = 0\n",
    "\n",
    "    def __deepcopy__(self, memo: dict) -> 'Graph':\n",
    "        g = Graph(self.n, self.m)\n",
    "        g.current = self.current\n",
    "        g.cost = self.cost\n",
    "        g.parent = self.parent\n",
    "        g.adj = copy(self.adj)\n",
    "        g.difficulties = deepcopy(self.difficulties)\n",
    "        g.requirements = deepcopy(self.requirements)\n",
    "        g.remainingTime = self.remainingTime\n",
    "        return g\n",
    "\n",
    "    def __lt__(self, other: 'Graph') -> bool:\n",
    "        return self.cost < other.cost\n",
    "\n",
    "    def __key(self) -> tuple[int, dict[int, int], dict[int, set[int]]]:\n",
    "        return (self.current, self.difficulties, self.requirements)\n",
    "\n",
    "    def __str__(self) -> str:\n",
    "        return str(self.__key())\n",
    "\n",
    "    def __hash__(self) -> int:\n",
    "        return hash(self.__str__())"
   ]
  },
  {
   "cell_type": "markdown",
   "metadata": {},
   "source": [
    "<div dir='rtl'>\n",
    "برای مدل کردن مسئله، هر \n",
    "state\n",
    "را با یک گراف نمایش می‌دهیم. \n",
    "این\n",
    "stateها \n",
    "شامل مرید‌های باقی‌مانده و دستور غذاهای باقی مانده آن‌ها، مکان فعلی سید در نقشه، وضعیت گذر از رئوس صعب العبور و زمان باقی مانده برای خروج از راس فعلی (در صورتی که راس فعلی صعب العبور باشد) است.\n",
    "همچنین در هر \n",
    "state\n",
    "مقادیر زیر را نیز نگهداری می‌کنیم:\n",
    "<ul>\n",
    "    <li>هزینه رسیدن به state فعلی</li>\n",
    "    <li>پدر state فعلی</li>\n",
    "    <li>یال‌های موجود در گراف</li>\n",
    "</ul>\n",
    "دو\n",
    "state\n",
    "را در صورتی یکسان در نظر می‌گیریم که موارد زیر در آن‌ها یکسان باشند:\n",
    "<ol>\n",
    "    <li>مکان فعلی سید</li>\n",
    "    <li>مریدهای باقی‌مانده و دستور غذاهای باقی‌مانده برای هر مرید</li>\n",
    "    <li>وضعیت گذر از رئوس صعب العبور</li>\n",
    "</ol>\n",
    "تست\n",
    "goal\n",
    "را به این صورت در نظر می‌گیریم که هیچ مرید و دستور غذایی باقی نمانده باشد.<br/>\n",
    "همچنین برای \n",
    "actionها،\n",
    "از هر راس می‌توانیم به راس همسایه برویم و یا اینکه یک واحد از زمان باقی‌مانده حضور در مکان فعلی (راس صعب العبور) کم کنیم.\n",
    "زمانی که به راس همسایه می‌رویم، بررسی می‌کنیم که در آن دستور غذا حفظ نشده و یا مریدی که تمام دستور غذاهای آن حفظ شده وجود دارد یا خیر، در صورت وجود، تغییرات لازم را در \n",
    "state\n",
    "جدید اعمال می‌کنیم.<br/>\n",
    "همچنین\n",
    "initial state\n",
    "را گراف ورودی سوال با تمام ویژگی‌های ورودی در نظر می‌گیریم.\n",
    "</div>"
   ]
  },
  {
   "cell_type": "code",
   "execution_count": 37,
   "metadata": {},
   "outputs": [],
   "source": [
    "def readInput(path: str) -> Graph:\n",
    "    with open(path, 'r', encoding='utf-8') as f:\n",
    "        n, m = map(int, f.readline().split())\n",
    "        graph = Graph(n, m)\n",
    "        for _ in range(m):\n",
    "            u, v = map(int, f.readline().split())\n",
    "            graph.adj[u - 1].add(v - 1)\n",
    "            graph.adj[v - 1].add(u - 1)\n",
    "        _ = int(f.readline())\n",
    "        difficulties = map(int, f.readline().split())\n",
    "        for d in difficulties:\n",
    "            graph.difficulties[d - 1] = -1\n",
    "        s = int(f.readline())\n",
    "        for _ in range(s):\n",
    "            inp = f.readline().split()\n",
    "            p = int(inp[0]) - 1\n",
    "            vertices = {int(x) - 1 for x in inp[2:]}\n",
    "            graph.requirements[p] = vertices\n",
    "        i = int(f.readline()) - 1\n",
    "        graph.current = i\n",
    "        if i in graph.difficulties:\n",
    "            graph.difficulties[i] += 1\n",
    "        for u, vertices in graph.requirements.items():\n",
    "            if i in vertices:\n",
    "                vertices.remove(i)\n",
    "        if i in graph.requirements and len(graph.requirements[i]) == 0:\n",
    "            del graph.requirements[i]\n",
    "    return graph"
   ]
  },
  {
   "cell_type": "code",
   "execution_count": 38,
   "metadata": {},
   "outputs": [],
   "source": [
    "inputs = [readInput(INPUT_PATH % i) for i in range(1, INPUT_COUNT + 1)]"
   ]
  },
  {
   "cell_type": "markdown",
   "metadata": {},
   "source": [
    "<div dir='rtl'>\n",
    "ورودی‌ها در فولدر \n",
    "data\n",
    "و به شکل\n",
    "input(i).txt\n",
    "قرار گرفته‌اند. شماره تست‌ها\n",
    "(i)\n",
    "به صورت زیر است:\n",
    "<ol>\n",
    "    <li>تست شماره 1 در تست کیس‌های اصلی و ساده</li>\n",
    "    <li>تست شماره 2 در تست کیس‌های ساده</li>\n",
    "    <li>تست شماره 3 در تست کیس‌های ساده</li>\n",
    "    <li>تست شماره 2 در تست کیس‌های اصلی</li>\n",
    "    <li>تست شماره 3 در تست کیس‌های اصلی</li>\n",
    "</ol>\n",
    "</div>"
   ]
  },
  {
   "cell_type": "code",
   "execution_count": 39,
   "metadata": {},
   "outputs": [],
   "source": [
    "def searchTime(g: Graph, method: Callable[[Graph], tuple[list[int] | None, int | None, int]]) -> float:\n",
    "    sum = 0\n",
    "    for _ in range(TIMER_TEST_COUNT):\n",
    "        gCopy = deepcopy(g)\n",
    "        start = timer()\n",
    "        method(gCopy)\n",
    "        end = timer()\n",
    "        sum += end - start\n",
    "    return sum / TIMER_TEST_COUNT"
   ]
  },
  {
   "cell_type": "code",
   "execution_count": 40,
   "metadata": {},
   "outputs": [],
   "source": [
    "def moveInGraph(g: Graph, dest: int) -> Graph | None:\n",
    "    if dest not in g.adj[g.current]:\n",
    "        return None\n",
    "    newGraph = deepcopy(g)\n",
    "    newGraph.current = dest\n",
    "    newGraph.cost += 1\n",
    "    newGraph.parent = g\n",
    "    if dest in newGraph.difficulties:\n",
    "        newGraph.difficulties[dest] += 1\n",
    "        newGraph.remainingTime = newGraph.difficulties[dest]\n",
    "    for _, vertices in newGraph.requirements.items():\n",
    "        if dest in vertices:\n",
    "            vertices.remove(dest)\n",
    "    if dest in newGraph.requirements and len(newGraph.requirements[dest]) == 0:\n",
    "        newGraph.requirements.pop(dest)\n",
    "    return newGraph\n",
    "\n",
    "\n",
    "def isGoal(g: Graph) -> bool:\n",
    "    return len(g.requirements) == 0\n",
    "\n",
    "\n",
    "def getPath(g: Graph | None) -> list[int]:\n",
    "    path = []\n",
    "    while g is not None:\n",
    "        path.append(g.current + 1)\n",
    "        g = g.parent\n",
    "    path.reverse()\n",
    "    return path"
   ]
  },
  {
   "cell_type": "code",
   "execution_count": 41,
   "metadata": {},
   "outputs": [],
   "source": [
    "def bfs(g: Graph) -> tuple[list[int] | None, int | None, int]:\n",
    "    if isGoal(g):\n",
    "        return getPath(g), g.cost,1\n",
    "    discovered = set()\n",
    "    queue = deque([g])\n",
    "    discovered.add(str(g))\n",
    "    while queue:\n",
    "        g = queue.popleft()\n",
    "        if g.remainingTime > 0:\n",
    "            g.remainingTime -= 1\n",
    "            g.cost += 1\n",
    "            queue.append(g)\n",
    "            continue\n",
    "        for dest in g.adj[g.current]:\n",
    "            newState = moveInGraph(g, dest)\n",
    "            if newState is None:\n",
    "                continue\n",
    "            if isGoal(newState):\n",
    "                return getPath(newState), newState.cost, len(discovered)\n",
    "            if str(newState) not in discovered:\n",
    "                queue.append(newState)\n",
    "                discovered.add(str(newState))\n",
    "    return None, None, len(discovered)"
   ]
  },
  {
   "cell_type": "markdown",
   "metadata": {},
   "source": [
    "<div dir='rtl'>\n",
    "می‌دانیم که برای عبور از هر یال به 1 ثانیه زمان نیاز داریم. از طرفی اگر در راس صعب العبوری باشیم که\n",
    "n\n",
    "ثانیه از زمان خروج از راس باقی مانده باشد، به اندازه\n",
    "n\n",
    "واحد عمق این \n",
    "state\n",
    "را افزایش می‌دهیم. برای مثال فرض کنید که در حال حاضر در\n",
    "stateای\n",
    "باشیم که راس فعلی سید یک راس صعب العبور باشد و زمان باقی‌مانده از زمان خروج از راس برابر با 5 باشد، این\n",
    "state\n",
    "در الگوریتم \n",
    "BFS\n",
    "تا 5 عمق پایین‌تر تکرار می‌شود و از عمق ششم می‌توانیم \n",
    "stateهایی\n",
    "که از حرکت سید به راس‌های همسایه ساخته می‌شوند را در نظر بگیریم. این مورد باعث می‌شود از طریق رئوس صعب العبور راه اشتباهی با هزینه بیشتر طی نکنیم. پس در نهایت می‌توان گفت اندازه هر یال برابر با 1 واحد است و الگوریتم\n",
    "BFS\n",
    "پاسخ بهینه را به ما می‌دهد.\n",
    "</div>"
   ]
  },
  {
   "cell_type": "code",
   "execution_count": 57,
   "metadata": {},
   "outputs": [
    {
     "name": "stdout",
     "output_type": "stream",
     "text": [
      "BFS: Input 1\n",
      "Path: 1 -> 3 -> 4 -> 5 -> 7 -> 10 -> 11 -> 9 -> 8\n",
      "Cost: 8\n",
      "Total Visited States: 78\n",
      "Time: 0.0069 seconds\n",
      "\n",
      "BFS: Input 2\n",
      "Path: 9 -> 10 -> 9 -> 4 -> 12 -> 3 -> 7 -> 5 -> 8\n",
      "Cost: 8\n",
      "Total Visited States: 115\n",
      "Time: 0.0098 seconds\n",
      "\n",
      "BFS: Input 3\n",
      "Path: 13 -> 11 -> 10 -> 3 -> 2 -> 6 -> 12 -> 5 -> 9 -> 4 -> 1 -> 13 -> 11 -> 10\n",
      "Cost: 13\n",
      "Total Visited States: 1769\n",
      "Time: 0.1697 seconds\n",
      "\n",
      "BFS: Input 4\n",
      "Path: 28 -> 19 -> 13 -> 3 -> 11 -> 24 -> 9 -> 2 -> 5 -> 7 -> 29 -> 22 -> 28\n",
      "Cost: 12\n",
      "Total Visited States: 7536\n",
      "Time: 1.5185 seconds\n",
      "\n",
      "BFS: Input 5\n",
      "Path: 40 -> 42 -> 38 -> 24 -> 31 -> 45 -> 30 -> 48 -> 41 -> 18 -> 1 -> 19 -> 43 -> 49 -> 47 -> 49 -> 9 -> 34 -> 25 -> 50 -> 12 -> 16\n",
      "Cost: 21\n",
      "Total Visited States: 10630\n",
      "Time: 1.2077 seconds\n",
      "\n"
     ]
    }
   ],
   "source": [
    "for i, g in enumerate(inputs):\n",
    "    gCopy = deepcopy(g)\n",
    "    print(f'BFS: Input {i + 1}')\n",
    "    path, cost, stateCount = bfs(gCopy)\n",
    "    if path is not None:\n",
    "        print('Path:', ' -> '.join(map(str, path)))\n",
    "        print('Cost:', cost)\n",
    "        print('Total Visited States:', stateCount)\n",
    "        print(f'Time: {searchTime(g, bfs):.4f} seconds')\n",
    "    else:\n",
    "        print('No solution')\n",
    "    print()"
   ]
  },
  {
   "cell_type": "markdown",
   "metadata": {},
   "source": [
    "<div dir='rtl'>\n",
    "همانطور که مشاهده می‌شود، زمان پاسخ دادن تست‌ها بسیار کمتر از محدودیت زمانی ذکر شده در صورت سوال است.\n",
    "</div>"
   ]
  },
  {
   "cell_type": "code",
   "execution_count": 43,
   "metadata": {},
   "outputs": [],
   "source": [
    "def dfs(g: Graph, depth: int, discovered: set, visited: set) -> Graph | None:\n",
    "    if isGoal(g):\n",
    "        return g\n",
    "    if depth <= 0:\n",
    "        return None\n",
    "    remainingTime = g.remainingTime\n",
    "    if remainingTime > 0:\n",
    "        g.remainingTime = 0\n",
    "        g.cost += remainingTime\n",
    "        if depth <= remainingTime + 1:\n",
    "            return None\n",
    "    children = set()\n",
    "    for dest in g.adj[g.current]:\n",
    "        newState = moveInGraph(g, dest)\n",
    "        if newState is None:\n",
    "            continue\n",
    "        if str(newState) in visited:\n",
    "            continue\n",
    "        children.add(((newState, str(newState))))\n",
    "        discovered.add(str(newState))\n",
    "        visited.add(str(newState))\n",
    "    for child, _ in children:\n",
    "        ans = dfs(child, depth - 1 - remainingTime, discovered, visited)\n",
    "        if ans is not None:\n",
    "            return ans\n",
    "    \n",
    "    for _, key in children:\n",
    "        visited.remove(str(key))\n",
    "    return None\n",
    "\n",
    "\n",
    "def ids(g: Graph) -> tuple[list[int] | None, int | None, int]:\n",
    "    depth = 0\n",
    "    while True:\n",
    "        discovered = set()\n",
    "        discovered.add(str(g))\n",
    "        visited = set()\n",
    "        visited.add(str(g))\n",
    "        ans = dfs(g, depth, discovered, visited)\n",
    "        if ans is not None:\n",
    "            return getPath(ans), ans.cost, len(discovered)\n",
    "        # print(f'IDS: Depth {depth} - Visited States: {len(discovered)}')\n",
    "        depth += 1"
   ]
  },
  {
   "cell_type": "markdown",
   "metadata": {},
   "source": [
    "<div dir='rtl'>\n",
    "الگوریتم\n",
    "DFS\n",
    "در حالت عادی پاسخ بهینه را به ما نمی‌دهد. زیرا ممکن است در شاخه اول پاسخی بلندتر از شاخه دوم یافت شود. اما زمانی که از \n",
    "IDS\n",
    "استفاده می‌کنیم، این الگوریتم پاسخ بهینه را پیدا می‌کند. با توجه به اینکه عمق را 1 واحد 1 واحد افزایش می‌دهیم، اگر جواب کوتاه‌تری وجود داشت، در همان عمق به جواب می‌رسیدیم.<br/>\n",
    "این الگوریتم تعداد \n",
    "stateهای\n",
    "بسیار زیادی (افزایش با مرتبه نمایی) تولید می‌کند که درصد ناچیزی از آن‌ها غیر تکراری هستند. <br/>\n",
    "اگر خط کامنت شده در تابع را از کامنت در بیاوریم، می‌توانیم تعداد \n",
    "stateهای\n",
    "غیر تکراری را در هر عمق مشاهده کنیم. همچنین اگر \n",
    "discovered\n",
    "را از\n",
    "set\n",
    "به \n",
    "list\n",
    "تغییر دهیم، می‌توانیم تعداد تمام\n",
    "stateهای\n",
    "هر عمق را مشاهده کنیم. این اعداد برای تست شماره 4 به صورت زیر است:\n",
    "<ul>\n",
    "    <li>عمق 6: حدود 90 هزار state که حدود 1000تای آن‌ها غیر تکراری هستند</li>\n",
    "    <li>عمق 7: حدود 660 هزار state که حدود 2000تای آن‌ها غیر تکراری هستند</li>\n",
    "    <li>عمق 8: حدود 4.8 میلیون state که حدود 3000تای آن‌ها غیر تکراری هستند</li>\n",
    "</ul>\n",
    "لازم به ذکر است که پاسخ نهایی در عمق 12 قرار دارد که اگر تعداد\n",
    "stateها\n",
    "به همین شیوه به صورت نمایی ادامه پیدا کند، تعداد\n",
    "stateها\n",
    "در عمق 12 به بیش از 5 میلیارد می‌رسد. به همین دلیل زمان اجرایی این الگوریتم برای تست‌های 4 و 5 بسیار زیاد است.\n",
    "</div>"
   ]
  },
  {
   "cell_type": "code",
   "execution_count": 58,
   "metadata": {},
   "outputs": [
    {
     "name": "stdout",
     "output_type": "stream",
     "text": [
      "IDS: Input 1\n",
      "Path: 1 -> 3 -> 4 -> 5 -> 7 -> 10 -> 11 -> 9 -> 8\n",
      "Cost: 8\n",
      "Total Visited States: 76\n",
      "Time: 0.0135 seconds\n",
      "\n",
      "IDS: Input 2\n",
      "Path: 9 -> 10 -> 2 -> 4 -> 12 -> 3 -> 7 -> 5 -> 8\n",
      "Cost: 8\n",
      "Total Visited States: 88\n",
      "Time: 0.0541 seconds\n",
      "\n",
      "IDS: Input 3\n",
      "Path: 13 -> 11 -> 10 -> 3 -> 2 -> 6 -> 12 -> 5 -> 9 -> 4 -> 1 -> 13 -> 11 -> 10\n",
      "Cost: 13\n",
      "Total Visited States: 1521\n",
      "Time: 1.5436 seconds\n",
      "\n"
     ]
    }
   ],
   "source": [
    "for i, g in enumerate(inputs[:3]): # remove [:3] to run all inputs (takes a long time =] )\n",
    "    gCopy = deepcopy(g)\n",
    "    print(f'IDS: Input {i + 1}')\n",
    "    path, cost, stateCount = ids(gCopy)\n",
    "    if path is not None:\n",
    "        print('Path:', ' -> '.join(map(str, path)))\n",
    "        print('Cost:', cost)\n",
    "        print('Total Visited States:', stateCount)\n",
    "        print(f'Time: {searchTime(g, ids):.4f} seconds')\n",
    "    else:\n",
    "        print('No solution')\n",
    "    print()"
   ]
  },
  {
   "cell_type": "markdown",
   "metadata": {},
   "source": [
    "<div dir='rtl'>\n",
    "با وجود اینکه در صورت سوال محدودیت زمانی برای این الگوریتم ذکر نشده است، زمان پاسخگویی به تست‌ها بسیار معقول است.\n",
    "همچنین برای تست‌های 4 و 5 با توجه به طولانی بودن زمان اجرا، تصمیم به اجرای آن‌ها در یک سرور شخصی (با سی پی یو تک هسته‌ای) گرفتم که نتیجه آن در بخش زیر قابل مشاهده است.<br/>\n",
    "لازم به ذکر است که چون همسایه‌های راس \n",
    "explore\n",
    "شده در یک ست قرار می‌گیرند (ترتیب ثابتی وجود ندارد) و سپس تابع \n",
    "DFS\n",
    "بر روی آن‌ها صدا زده می‌شود، مسیر یافت شده و تعداد \n",
    "stateهای\n",
    "پردازش شده لزوما با هر بار اجرا ثابت نخواهند ماند و ممکن است تغییر یابند.<br/>\n",
    "همچنین، تعداد\n",
    "stateهای\n",
    "نمایش داده شده فقط مربوط به\n",
    "stateهای\n",
    "غیر تکراری در <b>عمق آخر</b> است.\n",
    "</div>"
   ]
  },
  {
   "cell_type": "markdown",
   "metadata": {},
   "source": [
    "![IDS](./assets/IDS%20Results.png)"
   ]
  },
  {
   "cell_type": "code",
   "execution_count": 50,
   "metadata": {},
   "outputs": [],
   "source": [
    "def heuristic(g: Graph) -> int:\n",
    "    remainingCount = set()\n",
    "    for r, vertices in g.requirements.items():\n",
    "        remainingCount.add(r)\n",
    "        remainingCount.update(vertices)\n",
    "    return len(remainingCount)\n",
    "\n",
    "def aStar(g: Graph, alpha: float = 1) -> tuple[list[int] | None, int | None, int]:\n",
    "    q = []\n",
    "    heapq.heappush(q, (0, g))\n",
    "    discovered = set()\n",
    "    discovered.add(str(g))\n",
    "    while q:\n",
    "        _, g = heapq.heappop(q)\n",
    "        if isGoal(g):\n",
    "            return getPath(g), g.cost, len(discovered)\n",
    "        if g.remainingTime > 0:\n",
    "            g.remainingTime -= 1\n",
    "            g.cost += 1\n",
    "            heapq.heappush(q, (g.cost + alpha * heuristic(g), g))\n",
    "            continue\n",
    "        for dest in g.adj[g.current]:\n",
    "            newState = moveInGraph(g, dest)\n",
    "            if newState is None:\n",
    "                continue\n",
    "            if str(newState) not in discovered:\n",
    "                heapq.heappush(q, (newState.cost + alpha * heuristic(newState), newState))\n",
    "                discovered.add(str(newState))\n",
    "    return None, None, len(discovered)"
   ]
  },
  {
   "cell_type": "markdown",
   "metadata": {},
   "source": [
    "<div dir='rtl'>\n",
    "برای هیوریستیک مورد زیر را در نظر می‌گیریم:<br/>\n",
    "تعداد مریدها و دستور غذاهای باقی مانده (این رئوس را به صورت یکتا در نظر می‌گیریم زیرا ممکن است در یک راس چند مرید و چند دستور غذا باقی مانده باشد)<br/>\n",
    "برای اثبات \n",
    "consistent\n",
    "بودن این هیوریستیک به شکل زیر عمل می‌کنیم:<br/>\n",
    "دو\n",
    "state\n",
    "را با نام‌های\n",
    "A و C\n",
    "در نظر بگیرید به طوری که \n",
    "A\n",
    "یکی از جدهای\n",
    "C\n",
    "است. \n",
    "حال فرض کنید که تعداد رئوس (مریدها و دستور غذاها) باقی مانده در \n",
    "A\n",
    "برابر با \n",
    "n\n",
    "است و تعداد رئوس باقی مانده در\n",
    "C\n",
    "برابر با\n",
    "m\n",
    "باشد. در این صورت هنگام رسیدن از \n",
    "A\n",
    "به\n",
    "C\n",
    "باید حداقل از\n",
    "n-m\n",
    "راس بگذریم. با توجه به اینکه هزینه هر یال برابر با 1 واحد است، می‌توان گفت\n",
    "cost(A to C) &GreaterEqual; n-m\n",
    "از طرفی می‌دانیم که هیوریستیک ذکر شده برای هر \n",
    "state\n",
    "برابر با تعداد رئوس باقی مانده است به طوری که می‌توان گفت\n",
    "h(A) = n\n",
    "و\n",
    "h(C) = m\n",
    "و در نتیجه به \n",
    "cost(A to C) &GreaterEqual; h(A) - h(C)\n",
    "می‌رسیم. با توجه به این مورد، اثبات می‌شود که این هیوریستیک \n",
    "consistent\n",
    "است.\n",
    "<br/>\n",
    "لازم به ذکر است که می‌توانستیم از \n",
    "MST\n",
    "به عنوان هیوریستیک استفاده کنیم به این صورت که برای هر \n",
    "state\n",
    "یک درخت کمینه تشکیل می‌دادیم که نیازی نیست برای کل رئوس گراف پوشا باید بلکه لازم است برای رئوس باقی مانده (مریدها و دستور غذاها) پوشا باشد. در این الگوریتم هر زمانی که نیاز باشد می‌توانیم از رئوس دیگر استفاده کنیم. این هیوریستیک گرچه هیوریستیک قوی‌تری است، اما زمان زیادی برای محاسبه نیاز دارد که در نهایت مرتبه زمانی الگوریتم را افزایش می‌دهد.\n",
    "</div>"
   ]
  },
  {
   "cell_type": "markdown",
   "metadata": {},
   "source": [
    "<div dir='rtl'>\n",
    "الگوریتم\n",
    "*A\n",
    "جواب بهینه را محاسبه می‌کند. البته لازم به ذکر است که برای این کار لازم است 2 مورد رعایت شود:\n",
    "<ol>\n",
    "    <li>هیوریستیک مورد استفاده باید consistent باشد.</li>\n",
    "    <li>تست goal باید زمان پاپ شدن state از frontier انجام شود زیرا اگر این تست را زمان اضافه کردن state به frontier انجام دهیم، لزوما پاسخ ما بهینه نخواهد بود.</li>\n",
    "</ol>\n",
    "با توجه به اینکه هر 2 مورد ذکر شده در الگوریتم رعایت شده است، می‌توان گفت الگوریتم\n",
    "*A\n",
    "پاسخ بهینه را به دست می‌آورد.\n",
    "</div>"
   ]
  },
  {
   "cell_type": "code",
   "execution_count": 49,
   "metadata": {},
   "outputs": [
    {
     "name": "stdout",
     "output_type": "stream",
     "text": [
      "A*: Input 1\n",
      "Path: 1 -> 3 -> 4 -> 5 -> 7 -> 10 -> 11 -> 9 -> 8\n",
      "Cost: 8\n",
      "Total Visited States: 78\n",
      "Time: 0.0028 seconds\n",
      "\n",
      "A*: Input 2\n",
      "Path: 9 -> 10 -> 2 -> 4 -> 12 -> 3 -> 7 -> 5 -> 8\n",
      "Cost: 8\n",
      "Total Visited States: 88\n",
      "Time: 0.0089 seconds\n",
      "\n",
      "A*: Input 3\n",
      "Path: 13 -> 11 -> 10 -> 3 -> 2 -> 6 -> 12 -> 5 -> 9 -> 4 -> 1 -> 13 -> 11 -> 10\n",
      "Cost: 13\n",
      "Total Visited States: 711\n",
      "Time: 0.0576 seconds\n",
      "\n",
      "A*: Input 4\n",
      "Path: 28 -> 19 -> 13 -> 3 -> 11 -> 24 -> 9 -> 27 -> 5 -> 7 -> 29 -> 22 -> 28\n",
      "Cost: 12\n",
      "Total Visited States: 2670\n",
      "Time: 0.4009 seconds\n",
      "\n",
      "A*: Input 5\n",
      "Path: 40 -> 42 -> 38 -> 24 -> 31 -> 45 -> 30 -> 48 -> 41 -> 18 -> 1 -> 19 -> 43 -> 49 -> 47 -> 49 -> 9 -> 34 -> 25 -> 50 -> 12 -> 16\n",
      "Cost: 21\n",
      "Total Visited States: 7894\n",
      "Time: 1.1771 seconds\n",
      "\n"
     ]
    }
   ],
   "source": [
    "for i, g in enumerate(inputs):\n",
    "    gCopy = deepcopy(g)\n",
    "    print(f'A*: Input {i + 1}')\n",
    "    path, cost, stateCount = aStar(gCopy)\n",
    "    if path is not None:\n",
    "        print('Path:', ' -> '.join(map(str, path)))\n",
    "        print('Cost:', cost)\n",
    "        print('Total Visited States:', stateCount)\n",
    "        print(f'Time: {searchTime(g, lambda g: aStar(g, 1)):.4f} seconds')\n",
    "    else:\n",
    "        print('No solution')\n",
    "    print()"
   ]
  },
  {
   "cell_type": "markdown",
   "metadata": {},
   "source": [
    "<div dir='rtl'>\n",
    "همانطور که مشاهده می‌شود، الگوریتم\n",
    "*A\n",
    "تست‌های ورودی را در زمان معقول و بسیار کمتر از محدودیت زمانی صورت سوال، پاسخ داده است.\n",
    "</div>"
   ]
  },
  {
   "cell_type": "markdown",
   "metadata": {},
   "source": [
    "<div dir='rtl'>\n",
    "در کل می‌توان گفت بین تمامی الگوریتم‌هایی که تا به اینجا استفاده شدند، همگی پاسخ بهینه را بدست می‌آورند اما الگوریتم\n",
    "*A\n",
    "در کمترین زمان ممکن پاسخ را به دست می‌آورد.<br/>\n",
    "تفاوت بعدی بین الگوریتم‌های استفاده شده، حافظه مصرفی الگوریتم‌ها است. الگوریتم‌های\n",
    "BFS و *A\n",
    "به صورت \n",
    "exponential\n",
    "حافظه مصرف می‌کنند. در صورتی که حافظه مصرفی الگوریتم\n",
    "IDS\n",
    "به صورت\n",
    "خطی یا به عبارت دیگر\n",
    "polynomial\n",
    "است. در نتیجه در این الگوریتم مشکل حافظه نخواهیم داشت در صورتی که در دو الگوریتم قبلی ممکن است در تست‌های بزرگ، مشکل حافظه رخ دهد.\n",
    "</div>"
   ]
  },
  {
   "cell_type": "code",
   "execution_count": 52,
   "metadata": {},
   "outputs": [
    {
     "name": "stdout",
     "output_type": "stream",
     "text": [
      "A* (alpha = 1.2): Input 1\n",
      "Path: 1 -> 3 -> 4 -> 5 -> 7 -> 10 -> 11 -> 9 -> 8\n",
      "Cost: 8\n",
      "Total Visited States: 52\n",
      "Time: 0.0012 seconds\n",
      "\n",
      "A* (alpha = 1.2): Input 2\n",
      "Path: 9 -> 10 -> 2 -> 4 -> 12 -> 3 -> 7 -> 5 -> 8\n",
      "Cost: 8\n",
      "Total Visited States: 55\n",
      "Time: 0.0037 seconds\n",
      "\n",
      "A* (alpha = 1.2): Input 3\n",
      "Path: 13 -> 11 -> 10 -> 3 -> 2 -> 6 -> 12 -> 5 -> 9 -> 4 -> 1 -> 13 -> 11 -> 10\n",
      "Cost: 13\n",
      "Total Visited States: 425\n",
      "Time: 0.0089 seconds\n",
      "\n",
      "A* (alpha = 1.2): Input 4\n",
      "Path: 28 -> 23 -> 9 -> 24 -> 11 -> 3 -> 13 -> 23 -> 5 -> 7 -> 29 -> 22 -> 28\n",
      "Cost: 12\n",
      "Total Visited States: 436\n",
      "Time: 0.0055 seconds\n",
      "\n",
      "A* (alpha = 1.2): Input 5\n",
      "Path: 40 -> 42 -> 38 -> 24 -> 31 -> 45 -> 30 -> 48 -> 41 -> 18 -> 1 -> 19 -> 43 -> 49 -> 47 -> 49 -> 9 -> 34 -> 25 -> 50 -> 12 -> 16\n",
      "Cost: 21\n",
      "Total Visited States: 6565\n",
      "Time: 0.3648 seconds\n",
      "\n"
     ]
    }
   ],
   "source": [
    "for i, g in enumerate(inputs):\n",
    "    gCopy = deepcopy(g)\n",
    "    print(f'A* (alpha = 1.2): Input {i + 1}')\n",
    "    path, cost, stateCount = aStar(gCopy, 1.2)\n",
    "    if path is not None:\n",
    "        print('Path:', ' -> '.join(map(str, path)))\n",
    "        print('Cost:', cost)\n",
    "        print('Total Visited States:', stateCount)\n",
    "        print(f'Time: {searchTime(g, lambda g: aStar(g, 2)):.4f} seconds')\n",
    "    else:\n",
    "        print('No solution')\n",
    "    print()"
   ]
  },
  {
   "cell_type": "markdown",
   "metadata": {},
   "source": [
    "<div dir='rtl'>\n",
    "همانطور که مشاهده می‌شود، در الگوریتم \n",
    "Weighted *A\n",
    "تعداد \n",
    "stateهای\n",
    "مشاهده شده و زمان اجرا به مراتب کمتر از الگوریتم\n",
    "*A\n",
    "است. این اتفاق به دلیل این است که در این الگوریتم هیوریستیک مورد استفاده در عددی ضرب می‌شود زیرا می‌دانیم اگر یک هیوریستیک\n",
    "consistent\n",
    "باشد، همواره کمتر از هزینه واقعی خواهد بود و در نتیجه با ضرب عددی در آن تلاش می‌کنیم این مقدار را به هزینه واقعی نزدیک‌تر کنیم.<br/>\n",
    "این الگوریتم در این حالت خاص پاسخ بهینه را به ما داده است ولی لزوما همیشه بهینه نخواهد بود.\n",
    "</div>"
   ]
  },
  {
   "cell_type": "code",
   "execution_count": 51,
   "metadata": {},
   "outputs": [
    {
     "name": "stdout",
     "output_type": "stream",
     "text": [
      "A* (alpha = 1.4): Input 1\n",
      "Path: 1 -> 3 -> 4 -> 5 -> 7 -> 10 -> 11 -> 9 -> 8\n",
      "Cost: 8\n",
      "Total Visited States: 52\n",
      "Time: 0.0021 seconds\n",
      "\n",
      "A* (alpha = 1.4): Input 2\n",
      "Path: 9 -> 10 -> 2 -> 4 -> 12 -> 3 -> 7 -> 5 -> 8\n",
      "Cost: 8\n",
      "Total Visited States: 46\n",
      "Time: 0.0015 seconds\n",
      "\n",
      "A* (alpha = 1.4): Input 3\n",
      "Path: 13 -> 11 -> 10 -> 3 -> 2 -> 6 -> 12 -> 5 -> 9 -> 4 -> 1 -> 13 -> 11 -> 10\n",
      "Cost: 13\n",
      "Total Visited States: 254\n",
      "Time: 0.0084 seconds\n",
      "\n",
      "A* (alpha = 1.4): Input 4\n",
      "Path: 28 -> 19 -> 3 -> 11 -> 24 -> 9 -> 2 -> 5 -> 7 -> 29 -> 20 -> 13 -> 23 -> 28\n",
      "Cost: 13\n",
      "Total Visited States: 213\n",
      "Time: 0.0052 seconds\n",
      "\n",
      "A* (alpha = 1.4): Input 5\n",
      "Path: 40 -> 42 -> 38 -> 24 -> 31 -> 45 -> 30 -> 48 -> 41 -> 18 -> 1 -> 19 -> 43 -> 49 -> 47 -> 49 -> 9 -> 34 -> 25 -> 50 -> 12 -> 16\n",
      "Cost: 21\n",
      "Total Visited States: 5752\n",
      "Time: 0.4214 seconds\n",
      "\n"
     ]
    }
   ],
   "source": [
    "for i, g in enumerate(inputs):\n",
    "    gCopy = deepcopy(g)\n",
    "    print(f'A* (alpha = 1.4): Input {i + 1}')\n",
    "    path, cost, stateCount = aStar(gCopy, 1.4)\n",
    "    if path is not None:\n",
    "        print('Path:', ' -> '.join(map(str, path)))\n",
    "        print('Cost:', cost)\n",
    "        print('Total Visited States:', stateCount)\n",
    "        print(f'Time: {searchTime(g, lambda g: aStar(g, 2)):.4f} seconds')\n",
    "    else:\n",
    "        print('No solution')\n",
    "    print()"
   ]
  },
  {
   "cell_type": "markdown",
   "metadata": {},
   "source": [
    "<div dir='rtl'>\n",
    "همانطور که مشاهده می‌شود، به ازای\n",
    "&alpha; = 1.4،\n",
    "الگوریتم\n",
    "Weighted *A\n",
    "پاسخ بهینه را به ما نداده است. در تست شماره 4، عمق پاسخ بهینه 12 است در صورتی که پاسخ محاسبه شده در این بخش در عمق 13 قرار دارد.\n",
    "</div>"
   ]
  },
  {
   "cell_type": "markdown",
   "metadata": {},
   "source": [
    "<div dir='rtl'>\n",
    "در نهایت می‌توان گفت الگوریتم\n",
    "Weighted *A\n",
    "با انتخاب ضریب مناسب، در کمترین زمان ممکن پاسخ را محاسبه می‌کند ولی این پاسخ لزوما بهینه نیست.\n",
    "</div>"
   ]
  },
  {
   "cell_type": "markdown",
   "metadata": {},
   "source": [
    "<div dir='rtl'>\n",
    "جداول مربوط به تست کیس‌ها در بخش زیر آورده شده‌اند. لازم به ذکر است که تعداد \n",
    "stateهای\n",
    "دیده شده در هر تست کیس، تعداد\n",
    "stateهای\n",
    "<b>غیر تکراری</b>\n",
    "است.\n",
    "</div>"
   ]
  },
  {
   "cell_type": "markdown",
   "metadata": {},
   "source": [
    "<div dir='rtl'>\n",
    "<h2>تست شماره 1 (تست اول در تست کیس‌های اصلی و ساده)</h2>\n",
    "</div>"
   ]
  },
  {
   "cell_type": "markdown",
   "metadata": {},
   "source": [
    "|                            | Minimum Cost | Number of Visited States | Execution Time |\n",
    "|         :----:             |    :----:    |          :----:          |     :----:     |\n",
    "|          BFS               |      8       |            78            |     0.0069s    |\n",
    "|          IDS               |      8       |            76            |     0.0135s    |\n",
    "|           A*               |      8       |            78            |     0.0028s    |\n",
    "| Weighted A* $(\\alpha=1.2)$ |      8       |            52            |     0.0012s    |\n",
    "| Weighted A* $(\\alpha=1.4)$ |      8       |            52            |     0.0021s    |"
   ]
  },
  {
   "cell_type": "markdown",
   "metadata": {},
   "source": [
    "<div dir='rtl'>\n",
    "<h2>تست شماره 2 (تست دوم در تست کیس‌های ساده)</h2>\n",
    "</div>"
   ]
  },
  {
   "cell_type": "markdown",
   "metadata": {},
   "source": [
    "|                            | Minimum Cost | Number of Visited States | Execution Time |\n",
    "|         :----:             |    :----:    |          :----:          |     :----:     |\n",
    "|          BFS               |      8       |           115            |     0.0098s    |\n",
    "|          IDS               |      8       |            88            |     0.0541s    |\n",
    "|           A*               |      8       |            88            |     0.0089s    |\n",
    "| Weighted A* $(\\alpha=1.2)$ |      8       |            55            |     0.0037s    |\n",
    "| Weighted A* $(\\alpha=1.4)$ |      8       |            46            |     0.0015s    |"
   ]
  },
  {
   "cell_type": "markdown",
   "metadata": {},
   "source": [
    "<div dir='rtl'>\n",
    "<h2>تست شماره 3 (تست سوم در تست کیس‌های ساده)</h2>\n",
    "</div>"
   ]
  },
  {
   "cell_type": "markdown",
   "metadata": {},
   "source": [
    "|                            | Minimum Cost | Number of Visited States | Execution Time |\n",
    "|         :----:             |    :----:    |          :----:          |     :----:     |\n",
    "|          BFS               |      13      |           1769           |     0.1697s    |\n",
    "|          IDS               |      13      |           1521           |     1.5436s    |\n",
    "|           A*               |      13      |           711            |     0.0576s    |\n",
    "| Weighted A* $(\\alpha=1.2)$ |      13      |           425            |     0.0089s    |\n",
    "| Weighted A* $(\\alpha=1.4)$ |      13      |           254            |     0.0084s    |"
   ]
  },
  {
   "cell_type": "markdown",
   "metadata": {},
   "source": [
    "<div dir='rtl'>\n",
    "<h2>تست شماره 4 (تست دوم در تست کیس‌های اصلی)</h2>\n",
    "</div>"
   ]
  },
  {
   "cell_type": "markdown",
   "metadata": {},
   "source": [
    "|                            | Minimum Cost | Number of Visited States | Execution Time |\n",
    "|         :----:             |    :----:    |          :----:          |     :----:     |\n",
    "|          BFS               |      12      |           7536           |     1.5185s    |\n",
    "|          IDS               |      12      |           4996           |    1h29m14s    |\n",
    "|           A*               |      12      |           2670           |     0.4009s    |\n",
    "| Weighted A* $(\\alpha=1.2)$ |      12      |           436            |     0.0055s    |\n",
    "| Weighted A* $(\\alpha=1.4)$ |      13      |           213            |     0.0052s    |"
   ]
  },
  {
   "cell_type": "markdown",
   "metadata": {},
   "source": [
    "<div dir='rtl'>\n",
    "<h2>تست شماره 5 (تست سوم در تست کیس‌های اصلی)</h2>\n",
    "</div>"
   ]
  },
  {
   "cell_type": "markdown",
   "metadata": {},
   "source": [
    "|                            | Minimum Cost | Number of Visited States | Execution Time |\n",
    "|         :----:             |    :----:    |          :----:          |     :----:     |\n",
    "|          BFS               |      21      |           10630          |     1.2077s    |\n",
    "|          IDS               |              |                          |                |\n",
    "|           A*               |      21      |           7894           |     1.1771s    |\n",
    "| Weighted A* $(\\alpha=1.2)$ |      21      |           6565           |     0.3648s    |\n",
    "| Weighted A* $(\\alpha=1.4)$ |      21      |           5752           |     0.4214s    |"
   ]
  }
 ],
 "metadata": {
  "kernelspec": {
   "display_name": "Python 3.11.0 64-bit",
   "language": "python",
   "name": "python3"
  },
  "language_info": {
   "codemirror_mode": {
    "name": "ipython",
    "version": 3
   },
   "file_extension": ".py",
   "mimetype": "text/x-python",
   "name": "python",
   "nbconvert_exporter": "python",
   "pygments_lexer": "ipython3",
   "version": "3.11.0"
  },
  "orig_nbformat": 4,
  "vscode": {
   "interpreter": {
    "hash": "c261aea317cc0286b3b3261fbba9abdec21eaa57589985bb7a274bf54d6cc0a7"
   }
  }
 },
 "nbformat": 4,
 "nbformat_minor": 2
}
