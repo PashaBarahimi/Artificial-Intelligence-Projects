{
 "cells": [
  {
   "attachments": {},
   "cell_type": "markdown",
   "metadata": {},
   "source": [
    "<div dir ='rtl'>\n",
    "<h1>پروژه دوم</h1>\n",
    "</div>"
   ]
  },
  {
   "cell_type": "code",
   "execution_count": 2,
   "metadata": {},
   "outputs": [],
   "source": [
    "import random\n",
    "from dataclasses import dataclass\n",
    "from timeit import default_timer as timer"
   ]
  },
  {
   "cell_type": "code",
   "execution_count": 9,
   "metadata": {},
   "outputs": [],
   "source": [
    "CROSSOVER_PROBABILITY = 0.8\n",
    "MUTATION_PROBABILITY = 0.05\n",
    "CARRY_PERCENTAGE = 0.2\n",
    "POPULATION_SIZE = 100\n",
    "MULTI_START_COUNT = 10"
   ]
  },
  {
   "cell_type": "code",
   "execution_count": 4,
   "metadata": {},
   "outputs": [],
   "source": [
    "OPERATOR_PRECEDENCE = {\n",
    "    '+': 1,\n",
    "    '-': 1,\n",
    "    '%': 2,\n",
    "    '*': 2\n",
    "}\n",
    "\n",
    "OPERATOR_FUNCTION = {\n",
    "    '+': lambda x, y: x + y,\n",
    "    '-': lambda x, y: x - y,\n",
    "    '%': lambda x, y: x % y,\n",
    "    '*': lambda x, y: x * y\n",
    "}"
   ]
  },
  {
   "attachments": {},
   "cell_type": "markdown",
   "metadata": {},
   "source": [
    "<div dir='rtl'>\n",
    "<h2>بخش اول: مشخص کردن مفاهیم اولیه</h2>\n",
    "    هر ژن را شامل یک کاراکتر در نظر می‌گیریم که می‌تواند عدد و یا اپراتور باشد. هر کروموزوم را شامل تعدادی ژن در نظر می‌گیریم که این تعداد، با تعداد جایگاه‌های معادله برابر است.\n",
    "    لازم به ذکر است که ژن‌های اعداد به صورت یکی در میان در کروموزوم قرار می‌گیرند و ژن‌های اپراتورها بین ژن‌های اعداد قرار می‌گیرند. به همین دلیل است که تعداد ژن‌های اعداد همواره یک واحد بیشتر از تعداد ژن‌های اپراتورها است.\n",
    "</div>"
   ]
  },
  {
   "attachments": {},
   "cell_type": "markdown",
   "metadata": {},
   "source": [
    "<div dir='rtl'>\n",
    "<h2>بخش دوم: تولید جمعیت اولیه</h2>\n",
    "جمعیت اولیه در متغیر\n",
    "POPULATON_SIZE\n",
    "تعریف شده است. مقدار این متغیر پس از تست‌های مختلف به این عدد تغییر یافته است.\n",
    "</div>"
   ]
  },
  {
   "attachments": {},
   "cell_type": "markdown",
   "metadata": {},
   "source": [
    "<div dir='rtl'>\n",
    "<h2>بخش سوم: پیاده‌سازی و مشخص کردن تابع معیار سازگاری</h2>\n",
    "مقدار نزدیک بودن یک کروموزوم به پاسخ نهایی مسئله را معیار سازگاری در نظر می‌گیریم.\n",
    "لازم به ذکر است که معیار سازگاری بالاتر، باید نشان‌دهنده کروموزوم قوی‌تر باشد، به همین دلیل از محاسبات کسری استفاده می‌کنیم.\n",
    "اگر مقدار \n",
    "expression\n",
    "یک کروموزوم را محاسبه کنیم و آن را \n",
    "x\n",
    "بنامیم، می‌توانیم مقدار معیار سازگاری را به صورت زیر محاسبه کنیم:\n",
    "</div>"
   ]
  },
  {
   "attachments": {},
   "cell_type": "markdown",
   "metadata": {},
   "source": [
    "$fitness(x) = \\dfrac{1}{1+|x-goal|}$"
   ]
  },
  {
   "attachments": {},
   "cell_type": "markdown",
   "metadata": {},
   "source": [
    "<div dir='rtl'>\n",
    "با توجه به تابع ذکر شده، معیار سازگاری یک کروموزم بین 0 تا 1 خواهد بود که مقدار 1 نشان‌دهنده پاسخ نهایی مسئله است.\n",
    "</div>"
   ]
  },
  {
   "attachments": {},
   "cell_type": "markdown",
   "metadata": {},
   "source": [
    "<div dir='rtl'>\n",
    "<h2>بخش چهارم: پیاده‌سازی crossover و mutation و تولید جمعیت بعدی</h2>\n",
    "<h3>Crossover:</h3>\n",
    "برای ایجاد یک\n",
    "crossover pool، \n",
    "ابتدا جفت کروموزوم‌های\n",
    "mating pool\n",
    "را در نظر می‌گیریم. یک عدد رندوم بین 0 و 1 می‌سازیم و در صورتی که این عدد بیشتر از\n",
    "CROSSOVER_PROBABILITY\n",
    "بود، جفت کروموزوم‌های انتخاب شده را عینا برای مرحله بعد انتخاب می‌کنیم. در غیر این صورت، 2 نقطه را در کروموزم‌ها در نظر می‌گیریم و ژن‌های بین این 2 نقطه را در کروموزوم‌ها\n",
    "swap\n",
    "می‌کنیم. به این صورت توانستیم از 2 کروموزوم پدر و مادر، 2 فرزند را ایجاد کنیم.\n",
    "<h3>Mutation:</h3>\n",
    "برای انجام این کار، روی هر کدام از کروموزوم‌های\n",
    "crossover pool\n",
    "ایجاد شده در مرحله قبل، پیمایش می‌کنیم. به ازای ژنی که در هر کدام از این کروموزوم‌ها وجود دارد، ابتدا یک عدد رندوم بین 0 و 1 می‌سازیم. در صورتی که این عدد بیشتر از\n",
    "MUTATION_PROBABILITY\n",
    "بود، ژن مورد نظر را عینا در نظر می‌گیریم. در غیر این صورت، ژن مورد نظر را با ژن دیگری جایگزین می‌کنیم. لازم به ذکر است که اگر ژن قبلی عدد بوده است، ژن جدید نیز عدد خواهد بود، و اگر ژن قبلی اپراتور بوده است، ژن جدید نیز اپراتور خواهد بود.\n",
    "</div>"
   ]
  },
  {
   "attachments": {},
   "cell_type": "markdown",
   "metadata": {},
   "source": [
    "<div dir='rtl'>\n",
    "<h2>بخش پنجم: ایجاد الگوریتم ژنتیک روی مسئله</h2>\n",
    "الگوریتم نهایی به صورت زیر است:\n",
    "</div>"
   ]
  },
  {
   "cell_type": "code",
   "execution_count": 11,
   "metadata": {},
   "outputs": [],
   "source": [
    "@dataclass\n",
    "class EquationBuilder:\n",
    "    operators: list[str]\n",
    "    operands: list[int]\n",
    "    equationLength: int\n",
    "    goalNumber: int\n",
    "    population: list[list]\n",
    "\n",
    "    def __init__(self, operators: list[str], operands: list[int], equationLength: int, goalNumber: int, maxGenCount: int):\n",
    "        self.operators = operators\n",
    "        self.operands = operands\n",
    "        self.equationLength = equationLength\n",
    "        self.goalNumber = goalNumber\n",
    "        self.maxGenCount = maxGenCount\n",
    "\n",
    "    def makeFirstPopulation(self) -> list[list]:\n",
    "        operandCount = int(self.equationLength / 2) + 1\n",
    "        operatorCount = int(self.equationLength / 2)\n",
    "\n",
    "        population = []\n",
    "        for _ in range(POPULATION_SIZE):\n",
    "            chromosome = [0] * self.equationLength\n",
    "            for j in range(operandCount):\n",
    "                chromosome[j * 2] = random.choice(self.operands)\n",
    "            for j in range(operatorCount):\n",
    "                chromosome[j * 2 + 1] = random.choice(self.operators)  # type: ignore\n",
    "            population.append(chromosome)\n",
    "        return population\n",
    "\n",
    "    def findEquation(self, multiStartCount: int = 1) -> tuple[list, bool]:\n",
    "        bestSolution = None\n",
    "        for _ in range(multiStartCount):\n",
    "            self.population = self.makeFirstPopulation()\n",
    "            for _ in range(self.maxGenCount):\n",
    "                random.shuffle(self.population)\n",
    "\n",
    "                fitnesses = [self.calcFitness(self.population[i]) for i in range(POPULATION_SIZE)]\n",
    "                if max(fitnesses) == 1:\n",
    "                    return self.population[fitnesses.index(1)], True\n",
    "\n",
    "                bestChromosomes = [x for _, x in sorted(zip(fitnesses, self.population), key=lambda pair: pair[0], reverse=True)]\n",
    "                if bestSolution is None or self.calcFitness(bestSolution) < self.calcFitness(bestChromosomes[0]):\n",
    "                    bestSolution = bestChromosomes[0]\n",
    "                carriedChromosomes = []\n",
    "                for i in range(0, int(POPULATION_SIZE * CARRY_PERCENTAGE)):\n",
    "                    carriedChromosomes.append(bestChromosomes[i])\n",
    "\n",
    "                matingPool = self.createMatingPool(bestChromosomes)\n",
    "                crossoverPool = self.createCrossoverPool(matingPool)\n",
    "                self.population.clear()\n",
    "\n",
    "                for i in range(POPULATION_SIZE - int(POPULATION_SIZE * CARRY_PERCENTAGE)):\n",
    "                    self.population.append(self.mutate(crossoverPool[i]))\n",
    "\n",
    "                self.population.extend(carriedChromosomes)\n",
    "\n",
    "        return bestSolution, False # type: ignore\n",
    "\n",
    "    def createMatingPool(self, bestChromosomes: list[list]) -> list[list]:\n",
    "        ranks = list(reversed(range(1, POPULATION_SIZE + 1)))\n",
    "        matingPool = []\n",
    "        for i in range(POPULATION_SIZE):\n",
    "            for _ in range(ranks[i]):\n",
    "                matingPool.append(bestChromosomes[i])\n",
    "        random.shuffle(matingPool)\n",
    "        return matingPool[:POPULATION_SIZE]\n",
    "\n",
    "    def createCrossoverPool(self, matingPool: list[list]) -> list[list]:\n",
    "        crossoverPool = []\n",
    "        for i in range(0, len(matingPool) - 1, 2):\n",
    "            if random.random() > CROSSOVER_PROBABILITY:\n",
    "                crossoverPool.append(matingPool[i])\n",
    "                crossoverPool.append(matingPool[i + 1])\n",
    "            else:\n",
    "                children = self.crossover(matingPool[i], matingPool[i + 1])\n",
    "                crossoverPool.extend(children)\n",
    "        return crossoverPool\n",
    "\n",
    "    def crossover(self, chromosome1: list, chromosome2: list) -> tuple[list, list]:\n",
    "        crossoverPoint1 = random.randint(0, self.equationLength - 1)\n",
    "        crossoverPoint2 = random.randint(0, self.equationLength - 1)\n",
    "        if crossoverPoint1 > crossoverPoint2:\n",
    "            crossoverPoint1, crossoverPoint2 = crossoverPoint2, crossoverPoint1\n",
    "\n",
    "        chromosome1 = list(chromosome1)\n",
    "        chromosome2 = list(chromosome2)\n",
    "        for i in range(crossoverPoint1, crossoverPoint2):\n",
    "            chromosome1[i], chromosome2[i] = chromosome2[i], chromosome1[i]\n",
    "\n",
    "        return chromosome1, chromosome2\n",
    "\n",
    "    def mutate(self, chromosome: list) -> list:\n",
    "        chromosome = list(chromosome)\n",
    "        for i in range(len(chromosome)):\n",
    "            if random.random() < MUTATION_PROBABILITY:\n",
    "                if chromosome[i] in self.operators:\n",
    "                    chromosome[i] = random.choice(self.operators)\n",
    "                else:\n",
    "                    chromosome[i] = random.choice(self.operands)\n",
    "        return chromosome\n",
    "\n",
    "    def calcFitness(self, chromosome: list) -> float:\n",
    "        return 1 / (abs(self.goalNumber - eval(\"\".join(map(str, chromosome)))) + 1)"
   ]
  },
  {
   "attachments": {},
   "cell_type": "markdown",
   "metadata": {},
   "source": [
    "<div dir='rtl'>\n",
    "<h2>بخش ششم: سوالات</h2>\n",
    "<ol>\n",
    "    <li>اگر جمعیت اولیه خیلی کم باشد، گوناگونی در جمعیت کمتر می‌شود و احتمال اینکه الگوریتم به پاسخ درست مسئله برسد کاهش می‌یابد. برای کمتر کردن اثر این مشکل می‌توانیم مقدار \n",
    "    mutation\n",
    "    را افزایش دهیم. همچنین اگر مقدار جمعیت اولیه خیلی زیاد باشد، زمان الگوریتم و حافظه مورد نیاز آن افزایش پیدا می‌کند و در این صورت لازم است زمانی غیر ضروری را به اجرای الگوریتم اختصاص دهیم.</li>\n",
    "    <li>اگر جمعیت در هر مرحله افزایش پیدا کند، با وجود احتمال افزایش دقت الگوریتم، زمان اجرا و حافظه مصرفی الگوریتم در هر مرحله افزایش پیدا می‌کند و احتمالا به مشکل حافظه برمی‌خوریم. در واقع اصلا نیازی به انجام این کار نیست زیرا در هر مرحله می‌توانیم کروموزوم‌هایی را که فاصله زیادی از پاسخ نهایی دارند، از جمعیت حذف کنیم و جمعیت را ثابت و در اندازه‌ای مناسب نگه داریم.</li>\n",
    "    <li>crossover\n",
    "    برای ایجاد کروموزوم جدید از ترکیب دو کروموزوم دیگر استفاده می‌شود و معمولا احتمال بالایی (حداقل 80 درصد) به آن اختصاص می‌یابد. از طرفی،\n",
    "    mutation\n",
    "    برای تغییر یک ژن خاص و ایجاد یک نویز در آن استفاده می‌شود زیرا ممکن است به ما کمک کند که از یک\n",
    "    local extremum\n",
    "    خارج شویم. همانند رخداد این اتفاق در طبیعت، احتمال انجام این کار باید کم (حداکثر 5 درصد) باشد.</li>\n",
    "    <li>برای سریع‌تر رسیدن به جواب باید تعدادی مورد را در الگوریتم در نظر بگیریم. ابتدا باید پارامترهای الگوریتم را به درستی مقداردهی کنیم. سپس باید به نکته دقت کنیم که اعداد و اپراتورها به صورت یکی در میان و با شروع از عدد در کروموزوم قرار می‌گیرند. با رعایت کردن این مورد، تعدادی از حالات اضافه را از الگوریتم حذف می‌کنیم. لازم به ذکر است که حفظ جایگاه اعداد و اپراتورها در عملیات \n",
    "    mutation و crossover\n",
    "    نیز اجباری است.</li>\n",
    "    <li>به طور کلی در الگوریتم‌های ژنتیک ممکن است در یک \n",
    "    local extremum\n",
    "    بمانیم و از آنجا خارج نشویم. راه حل این مشکل استفاده از \n",
    "    mutation\n",
    "    و یا\n",
    "    multi-start\n",
    "    است. در اینجا با توجه به اینکه \n",
    "    mutation\n",
    "    کافی است و در اکثر موارد پاسخ مورد نظر را می‌دهد، از آن استفاده می‌کنیم. پیاده‌سازی\n",
    "    multi-start\n",
    "    نیز در این قسمت انجام شده است.</li>\n",
    "    <li>برای اینکه بتوانیم الگوریتم را در صورت وجود نداشتن جواب متوقف کنیم، یک محدودیت برای تعداد نسل‌های ساخته شده در نظر می‌گیریم. با توجه به اینکه این محدودیت باید بر اساس تعداد جایگاه‌های ساختار معادله و مقدار\n",
    "    POPULATION_SIZE\n",
    "    تعیین شود، این محدودیت را به صورت زیر تعیین می‌کنیم:\n",
    "</ol>\n",
    "</div>"
   ]
  },
  {
   "attachments": {},
   "cell_type": "markdown",
   "metadata": {},
   "source": [
    "$GenLimit = 2\\times POPULATION\\_SIZE\\times equationLength$"
   ]
  },
  {
   "cell_type": "code",
   "execution_count": 12,
   "metadata": {},
   "outputs": [],
   "source": [
    "def getBuildTime(equationBuilder: EquationBuilder, testCount: int) -> float:\n",
    "    buildTimes = []\n",
    "    for _ in range(testCount):\n",
    "        start = timer()\n",
    "        equationBuilder.findEquation()\n",
    "        end = timer()\n",
    "        buildTimes.append(end - start)\n",
    "    return sum(buildTimes) / len(buildTimes)"
   ]
  },
  {
   "cell_type": "code",
   "execution_count": 13,
   "metadata": {},
   "outputs": [],
   "source": [
    "operands = [1, 2, 3, 4, 5, 6, 7, 8]\n",
    "operators = ['+', '-', '*']\n",
    "equationLength = 21\n",
    "goalNumber = 18019"
   ]
  },
  {
   "cell_type": "code",
   "execution_count": 14,
   "metadata": {},
   "outputs": [
    {
     "name": "stdout",
     "output_type": "stream",
     "text": [
      "4 * 6 + 5 * 6 * 3 * 5 * 5 * 8 - 1 - 5 + 1 = 18019\n"
     ]
    }
   ],
   "source": [
    "equationBuilder = EquationBuilder(operators, operands, equationLength, goalNumber, equationLength * POPULATION_SIZE * 2)\n",
    "equation, isFound = equationBuilder.findEquation(MULTI_START_COUNT)\n",
    "if not isFound:\n",
    "    print(\"No equation found! Best solution:\")\n",
    "print(*equation, \"=\", eval(\"\".join(map(str, equation))))"
   ]
  },
  {
   "attachments": {},
   "cell_type": "markdown",
   "metadata": {},
   "source": [
    "<div dir='rtl'>\n",
    "همانطور که مشاهده می‌شود، پاسخ مسئله یافت شده است.\n",
    "</div>"
   ]
  },
  {
   "cell_type": "code",
   "execution_count": 17,
   "metadata": {},
   "outputs": [
    {
     "name": "stdout",
     "output_type": "stream",
     "text": [
      "Average Build Time: 0.1507s\n"
     ]
    }
   ],
   "source": [
    "print(f\"Average Build Time: {getBuildTime(equationBuilder, 10):.4f}s\")"
   ]
  },
  {
   "attachments": {},
   "cell_type": "markdown",
   "metadata": {},
   "source": [
    "<div dir='rtl'>\n",
    "الگوریتم ارائه شده می‌تواند در میانگین زمان حدود\n",
    "0.2s\n",
    "پاسخ مسئله را محاسبه کند.\n",
    "</div>"
   ]
  },
  {
   "cell_type": "code",
   "execution_count": 21,
   "metadata": {},
   "outputs": [
    {
     "name": "stdout",
     "output_type": "stream",
     "text": [
      "3 + 3 + 3\n",
      "Expected: 10\n",
      "Actual: 9\n"
     ]
    }
   ],
   "source": [
    "noAnswerEquation = EquationBuilder(['+', '-'], [1, 2, 3], 5, 10, 5 * POPULATION_SIZE * 2)\n",
    "result = noAnswerEquation.findEquation(MULTI_START_COUNT)\n",
    "print(*result[0])\n",
    "print(\"Expected:\", 10)\n",
    "print(\"Actual:\", eval(\"\".join(map(str, result[0]))))"
   ]
  },
  {
   "attachments": {},
   "cell_type": "markdown",
   "metadata": {},
   "source": [
    "<div dir='rtl'>\n",
    "با توجه به اینکه معادله بالا امکان ساخته شدن ندارد، الگوریتم پس از مدتی متوقف شده و نزدیک‌‌ترین جواب را برمی‌گرداند.\n",
    "</div>"
   ]
  }
 ],
 "metadata": {
  "kernelspec": {
   "display_name": "Python 3",
   "language": "python",
   "name": "python3"
  },
  "language_info": {
   "codemirror_mode": {
    "name": "ipython",
    "version": 3
   },
   "file_extension": ".py",
   "mimetype": "text/x-python",
   "name": "python",
   "nbconvert_exporter": "python",
   "pygments_lexer": "ipython3",
   "version": "3.11.0"
  },
  "orig_nbformat": 4,
  "vscode": {
   "interpreter": {
    "hash": "c261aea317cc0286b3b3261fbba9abdec21eaa57589985bb7a274bf54d6cc0a7"
   }
  }
 },
 "nbformat": 4,
 "nbformat_minor": 2
}
