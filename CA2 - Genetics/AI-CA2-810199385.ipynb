{
 "cells": [
  {
   "attachments": {},
   "cell_type": "markdown",
   "metadata": {},
   "source": [
    "# Computer Assignment 2 (Genetics)"
   ]
  },
  {
   "cell_type": "code",
   "execution_count": 2,
   "metadata": {},
   "outputs": [],
   "source": [
    "import random\n",
    "from timeit import default_timer as timer"
   ]
  },
  {
   "cell_type": "code",
   "execution_count": 9,
   "metadata": {},
   "outputs": [],
   "source": [
    "CROSSOVER_PROBABILITY = 0.8\n",
    "MUTATION_PROBABILITY = 0.05\n",
    "CARRY_PERCENTAGE = 0.2\n",
    "POPULATION_SIZE = 100\n",
    "MULTI_START_COUNT = 10"
   ]
  },
  {
   "cell_type": "code",
   "execution_count": 4,
   "metadata": {},
   "outputs": [],
   "source": [
    "OPERATOR_PRECEDENCE = {\n",
    "    '+': 1,\n",
    "    '-': 1,\n",
    "    '%': 2,\n",
    "    '*': 2\n",
    "}\n",
    "\n",
    "OPERATOR_FUNCTION = {\n",
    "    '+': lambda x, y: x + y,\n",
    "    '-': lambda x, y: x - y,\n",
    "    '%': lambda x, y: x % y,\n",
    "    '*': lambda x, y: x * y\n",
    "}"
   ]
  },
  {
   "attachments": {},
   "cell_type": "markdown",
   "metadata": {},
   "source": [
    "## Part 1: Basic Concepts\n",
    "\n",
    "Each gene will be considered as a character which can be either an operand or operator. Each chromosome will consist of some genes and the number of these genes will be the equation length. Each operator gene will be placed in the middle of two operand genes. This is why the number of operand genes will be always one unit more than the number of operator genes."
   ]
  },
  {
   "attachments": {},
   "cell_type": "markdown",
   "metadata": {},
   "source": [
    "## Part 2: Initial Population\n",
    "\n",
    "The initial population size is defined in the `POPULATION_SIZE` variable."
   ]
  },
  {
   "attachments": {},
   "cell_type": "markdown",
   "metadata": {},
   "source": [
    "## Part 3: Fitness Function\n",
    "\n",
    "The fitness function determines how near the equation is to the target value. The more near the equation is to the target value, the more fitness it has. The fitness function is defined as follows:\n",
    "\n",
    "$$fitness = \\frac{1}{1 + \\left|target - equation\\right|}$$\n",
    "\n",
    "Based on the above formula, the fitness of an equation is always between 0 and 1. The fitness of an equation is 1 if the equation is equal to the target value."
   ]
  },
  {
   "attachments": {},
   "cell_type": "markdown",
   "metadata": {},
   "source": [
    "## Part 4: Implementing Crossover and Mutation and Generating Next Population\n",
    "\n",
    "### Crossover\n",
    "\n",
    "In order to make a crossover pool, first we generate a random number between 0 and 1. Then, for each pair of chromosomes in mating pool, if the number is more than `CROSSOVER_PROBABILITY`, we select the chromosomes for the next phase without any change. Otherwise, we swap the genes in the middle of two random points, between the chromosomes. In this case, we have created a pair of child chromosomes from their parents.\n",
    "\n",
    "### Mutation\n",
    "\n",
    "For each gene in each chromosome of the crossover pool, we generate a random number between 0 and 1. If the number is less than `MUTATION_PROBABILITY`, we change the gene to a random character. It is important to note that if the gene is an operator, we change it to another operator. Otherwise, we change it to another operand."
   ]
  },
  {
   "attachments": {},
   "cell_type": "markdown",
   "metadata": {},
   "source": [
    "## Part 5: Running the Genetic Algorithm\n",
    "\n",
    "The algorithm is as follows:"
   ]
  },
  {
   "cell_type": "code",
   "execution_count": 11,
   "metadata": {},
   "outputs": [],
   "source": [
    "class EquationBuilder:\n",
    "    operators: list[str]\n",
    "    operands: list[int]\n",
    "    equationLength: int\n",
    "    goalNumber: int\n",
    "    population: list[list]\n",
    "\n",
    "    def __init__(self, operators: list[str], operands: list[int], equationLength: int, goalNumber: int, maxGenCount: int):\n",
    "        self.operators = operators\n",
    "        self.operands = operands\n",
    "        self.equationLength = equationLength\n",
    "        self.goalNumber = goalNumber\n",
    "        self.maxGenCount = maxGenCount\n",
    "\n",
    "    def makeFirstPopulation(self) -> list[list]:\n",
    "        operandCount = int(self.equationLength / 2) + 1\n",
    "        operatorCount = int(self.equationLength / 2)\n",
    "\n",
    "        population = []\n",
    "        for _ in range(POPULATION_SIZE):\n",
    "            chromosome = [0] * self.equationLength\n",
    "            for j in range(operandCount):\n",
    "                chromosome[j * 2] = random.choice(self.operands)\n",
    "            for j in range(operatorCount):\n",
    "                chromosome[j * 2 + 1] = random.choice(self.operators)  # type: ignore\n",
    "            population.append(chromosome)\n",
    "        return population\n",
    "\n",
    "    def findEquation(self, multiStartCount: int = 1) -> tuple[list, bool]:\n",
    "        bestSolution = None\n",
    "        for _ in range(multiStartCount):\n",
    "            self.population = self.makeFirstPopulation()\n",
    "            for _ in range(self.maxGenCount):\n",
    "                random.shuffle(self.population)\n",
    "\n",
    "                fitnesses = [self.calcFitness(self.population[i]) for i in range(POPULATION_SIZE)]\n",
    "                if max(fitnesses) == 1:\n",
    "                    return self.population[fitnesses.index(1)], True\n",
    "\n",
    "                bestChromosomes = [x for _, x in sorted(zip(fitnesses, self.population), key=lambda pair: pair[0], reverse=True)]\n",
    "                if bestSolution is None or self.calcFitness(bestSolution) < self.calcFitness(bestChromosomes[0]):\n",
    "                    bestSolution = bestChromosomes[0]\n",
    "                carriedChromosomes = []\n",
    "                for i in range(0, int(POPULATION_SIZE * CARRY_PERCENTAGE)):\n",
    "                    carriedChromosomes.append(bestChromosomes[i])\n",
    "\n",
    "                matingPool = self.createMatingPool(bestChromosomes)\n",
    "                crossoverPool = self.createCrossoverPool(matingPool)\n",
    "                self.population.clear()\n",
    "\n",
    "                for i in range(POPULATION_SIZE - int(POPULATION_SIZE * CARRY_PERCENTAGE)):\n",
    "                    self.population.append(self.mutate(crossoverPool[i]))\n",
    "\n",
    "                self.population.extend(carriedChromosomes)\n",
    "\n",
    "        return bestSolution, False # type: ignore\n",
    "\n",
    "    def createMatingPool(self, bestChromosomes: list[list]) -> list[list]:\n",
    "        ranks = list(reversed(range(1, POPULATION_SIZE + 1)))\n",
    "        matingPool = []\n",
    "        for i in range(POPULATION_SIZE):\n",
    "            for _ in range(ranks[i]):\n",
    "                matingPool.append(bestChromosomes[i])\n",
    "        random.shuffle(matingPool)\n",
    "        return matingPool[:POPULATION_SIZE]\n",
    "\n",
    "    def createCrossoverPool(self, matingPool: list[list]) -> list[list]:\n",
    "        crossoverPool = []\n",
    "        for i in range(0, len(matingPool) - 1, 2):\n",
    "            if random.random() > CROSSOVER_PROBABILITY:\n",
    "                crossoverPool.append(matingPool[i])\n",
    "                crossoverPool.append(matingPool[i + 1])\n",
    "            else:\n",
    "                children = self.crossover(matingPool[i], matingPool[i + 1])\n",
    "                crossoverPool.extend(children)\n",
    "        return crossoverPool\n",
    "\n",
    "    def crossover(self, chromosome1: list, chromosome2: list) -> tuple[list, list]:\n",
    "        crossoverPoint1 = random.randint(0, self.equationLength - 1)\n",
    "        crossoverPoint2 = random.randint(0, self.equationLength - 1)\n",
    "        if crossoverPoint1 > crossoverPoint2:\n",
    "            crossoverPoint1, crossoverPoint2 = crossoverPoint2, crossoverPoint1\n",
    "\n",
    "        chromosome1 = list(chromosome1)\n",
    "        chromosome2 = list(chromosome2)\n",
    "        for i in range(crossoverPoint1, crossoverPoint2):\n",
    "            chromosome1[i], chromosome2[i] = chromosome2[i], chromosome1[i]\n",
    "\n",
    "        return chromosome1, chromosome2\n",
    "\n",
    "    def mutate(self, chromosome: list) -> list:\n",
    "        chromosome = list(chromosome)\n",
    "        for i in range(len(chromosome)):\n",
    "            if random.random() < MUTATION_PROBABILITY:\n",
    "                if chromosome[i] in self.operators:\n",
    "                    chromosome[i] = random.choice(self.operators)\n",
    "                else:\n",
    "                    chromosome[i] = random.choice(self.operands)\n",
    "        return chromosome\n",
    "\n",
    "    def calcFitness(self, chromosome: list) -> float:\n",
    "        return 1 / (abs(self.goalNumber - eval(\"\".join(map(str, chromosome)))) + 1)"
   ]
  },
  {
   "attachments": {},
   "cell_type": "markdown",
   "metadata": {},
   "source": [
    "## Part 6: Questions\n",
    "\n",
    "### 1. How can very large or very small population sizes affect the performance of the algorithm?\n",
    "\n",
    "If the population size is very small, the algorithm may not be able to find the best solution because it may not have enough chromosomes to select from. On the other hand, if the population size is very large, the algorithm may take a long time to find the best solution and it may be unnecessary to spend that much time.\n",
    "\n",
    "### 2. What happens if the population size increases in each generation?\n",
    "\n",
    "This **may** result in a better solution. However, it increases the time complexity and the memory usage. Also, it is unnecessary to do this because we can remove the chromosomes with the lowest fitness from the population in order to keep the population size constant.\n",
    "\n",
    "### 3. What is the effect of crossover and mutation? Is it possible to use only one of them?\n",
    "\n",
    "Crossover is used to create new chromosomes from the existing chromosomes. Mutation is used to change the genes of the chromosomes. If we use only one of them, we may not be able to find the best solution. For example, if we use only crossover, we may stop at a local maximum. If we use only mutation, we may not be able to find the best solution. It is important to note that the crossover and mutation probabilities should be chosen carefully. The crossover probability is usually at least 80% and the mutation probability is usually at most 5%.\n",
    "\n",
    "### 4. How to accelerate the algorithm?\n",
    "\n",
    "Fitness function, parameters such as the probability of crossover and mutation, and the population size should be chosen carefully. Also, the crossover and mutation functions can affect the performance of the algorithm.\n",
    "\n",
    "### 5. How to stop the algorithm if it is not converging?\n",
    "\n",
    "A common problem in genetic algorithms is that it may stop at a local maximum instead of the global maximum. Mutation is a good way to solve this problem. Also, we can limit the number of generations in order to stop the algorithm if it is not converging. In this case, we may also use multi-start to increase the probability of finding the global maximum.\n",
    "\n",
    "### 6. How to stop the algorithm if there exists no solution?\n",
    "\n",
    "As mentioned in the previous question, we can limit the number of generations in order to stop the algorithm if there exists no solution. We can use the following formula for the generation limit:\n",
    "\n",
    "$$GenLimit = 2\\times POPULATION\\_SIZE\\times equationLength$$"
   ]
  },
  {
   "cell_type": "code",
   "execution_count": 12,
   "metadata": {},
   "outputs": [],
   "source": [
    "def getBuildTime(equationBuilder: EquationBuilder, testCount: int) -> float:\n",
    "    buildTimes = []\n",
    "    for _ in range(testCount):\n",
    "        start = timer()\n",
    "        equationBuilder.findEquation()\n",
    "        end = timer()\n",
    "        buildTimes.append(end - start)\n",
    "    return sum(buildTimes) / len(buildTimes)"
   ]
  },
  {
   "cell_type": "code",
   "execution_count": 13,
   "metadata": {},
   "outputs": [],
   "source": [
    "operands = [1, 2, 3, 4, 5, 6, 7, 8]\n",
    "operators = ['+', '-', '*']\n",
    "equationLength = 21\n",
    "goalNumber = 18019"
   ]
  },
  {
   "cell_type": "code",
   "execution_count": 14,
   "metadata": {},
   "outputs": [
    {
     "name": "stdout",
     "output_type": "stream",
     "text": [
      "4 * 6 + 5 * 6 * 3 * 5 * 5 * 8 - 1 - 5 + 1 = 18019\n"
     ]
    }
   ],
   "source": [
    "equationBuilder = EquationBuilder(operators, operands, equationLength, goalNumber, equationLength * POPULATION_SIZE * 2)\n",
    "equation, isFound = equationBuilder.findEquation(MULTI_START_COUNT)\n",
    "if not isFound:\n",
    "    print(\"No equation found! Best solution:\")\n",
    "print(*equation, \"=\", eval(\"\".join(map(str, equation))))"
   ]
  },
  {
   "attachments": {},
   "cell_type": "markdown",
   "metadata": {},
   "source": [
    "As it is shown above, the answer is found."
   ]
  },
  {
   "cell_type": "code",
   "execution_count": 17,
   "metadata": {},
   "outputs": [
    {
     "name": "stdout",
     "output_type": "stream",
     "text": [
      "Average Build Time: 0.1507s\n"
     ]
    }
   ],
   "source": [
    "print(f\"Average Build Time: {getBuildTime(equationBuilder, 10):.4f}s\")"
   ]
  },
  {
   "attachments": {},
   "cell_type": "markdown",
   "metadata": {},
   "source": [
    "The algorithm can find the solution in about 0.2s approximately."
   ]
  },
  {
   "cell_type": "code",
   "execution_count": 21,
   "metadata": {},
   "outputs": [
    {
     "name": "stdout",
     "output_type": "stream",
     "text": [
      "3 + 3 + 3\n",
      "Expected: 10\n",
      "Actual: 9\n"
     ]
    }
   ],
   "source": [
    "noAnswerEquation = EquationBuilder(['+', '-'], [1, 2, 3], 5, 10, 5 * POPULATION_SIZE * 2)\n",
    "result = noAnswerEquation.findEquation(MULTI_START_COUNT)\n",
    "print(*result[0])\n",
    "print(\"Expected:\", 10)\n",
    "print(\"Actual:\", eval(\"\".join(map(str, result[0]))))"
   ]
  },
  {
   "attachments": {},
   "cell_type": "markdown",
   "metadata": {},
   "source": [
    "As the above equation cannot be built, the algorithm has stopped after some time and the nearest answer is returned."
   ]
  }
 ],
 "metadata": {
  "kernelspec": {
   "display_name": "Python 3",
   "language": "python",
   "name": "python3"
  },
  "language_info": {
   "codemirror_mode": {
    "name": "ipython",
    "version": 3
   },
   "file_extension": ".py",
   "mimetype": "text/x-python",
   "name": "python",
   "nbconvert_exporter": "python",
   "pygments_lexer": "ipython3",
   "version": "3.11.0 (main, Oct 24 2022, 18:26:48) [MSC v.1933 64 bit (AMD64)]"
  },
  "orig_nbformat": 4,
  "vscode": {
   "interpreter": {
    "hash": "c261aea317cc0286b3b3261fbba9abdec21eaa57589985bb7a274bf54d6cc0a7"
   }
  }
 },
 "nbformat": 4,
 "nbformat_minor": 2
}
