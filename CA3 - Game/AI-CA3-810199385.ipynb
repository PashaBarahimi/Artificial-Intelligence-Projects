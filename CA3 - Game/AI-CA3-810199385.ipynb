{
 "cells": [
  {
   "attachments": {},
   "cell_type": "markdown",
   "metadata": {},
   "source": [
    "# Computer Assignment 3 (Game)"
   ]
  },
  {
   "attachments": {},
   "cell_type": "markdown",
   "metadata": {},
   "source": [
    "## Implementation"
   ]
  },
  {
   "cell_type": "code",
   "execution_count": 2,
   "metadata": {},
   "outputs": [],
   "source": [
    "import turtle\n",
    "import math\n",
    "import random\n",
    "from time import sleep\n",
    "from copy import deepcopy\n",
    "from enum import Enum\n",
    "from typing import Union\n",
    "from sys import argv\n",
    "from timeit import default_timer as timer"
   ]
  },
  {
   "cell_type": "code",
   "execution_count": 3,
   "metadata": {},
   "outputs": [],
   "source": [
    "VERTICES_COUNT = 6\n",
    "SLEEP_TIME = 1.5\n",
    "\n",
    "Line = tuple[int, int]"
   ]
  },
  {
   "cell_type": "code",
   "execution_count": 4,
   "metadata": {},
   "outputs": [],
   "source": [
    "class Player(Enum):\n",
    "    RED = 'red'\n",
    "    BLUE = 'blue'\n",
    "\n",
    "    def __invert__(self) -> 'Player':\n",
    "        return Player.RED if self == Player.BLUE else Player.BLUE"
   ]
  },
  {
   "attachments": {},
   "cell_type": "markdown",
   "metadata": {},
   "source": [
    "`Player` class is an Enum, which is used to prevent code duplication from `Sim` class."
   ]
  },
  {
   "cell_type": "code",
   "execution_count": 5,
   "metadata": {},
   "outputs": [],
   "source": [
    "class MinimaxType(Enum):\n",
    "    MIN = 0\n",
    "    MAX = 1\n",
    "\n",
    "    def __invert__(self) -> 'MinimaxType':\n",
    "        return MinimaxType.MIN if self == MinimaxType.MAX else MinimaxType.MAX"
   ]
  },
  {
   "cell_type": "code",
   "execution_count": 6,
   "metadata": {},
   "outputs": [],
   "source": [
    "def winner(player_moves: dict[Player, list[Line]]) -> tuple[Union[Player, None], Union[tuple[Line, Line, Line], None]]:\n",
    "    for color, moves in player_moves.items():\n",
    "        if len(moves) < 3:\n",
    "            continue\n",
    "        for i in range(0, len(moves) - 2):\n",
    "            for j in range(i + 1, len(moves) - 1):\n",
    "                for k in range(j + 1, len(moves)):\n",
    "                    if len(set(moves[i] + moves[j] + moves[k])) == 3:\n",
    "                        return ~color, (moves[i], moves[j], moves[k])\n",
    "    return None, None"
   ]
  },
  {
   "attachments": {},
   "cell_type": "markdown",
   "metadata": {},
   "source": [
    "The above function will check each triple of lines and calculates the number of points that the triple contains. If the triple contains 3 points, then it will be considered as a triangle and that played will lose the game. Otherwise, the game will continue."
   ]
  },
  {
   "cell_type": "code",
   "execution_count": 18,
   "metadata": {},
   "outputs": [],
   "source": [
    "class SimGui:\n",
    "    Dot = tuple[float, float]\n",
    "\n",
    "    def __init__(self, title: str, width: int, height: int, vertices_count: int):\n",
    "        self._screen = turtle.Screen()\n",
    "        self._screen.setup(width, height)\n",
    "        self._screen.title(title)\n",
    "        self._screen.bgcolor(0.117, 0.117, 0.117)\n",
    "        self._screen.setworldcoordinates(-1.5, -1.5, 1.5, 1.5)\n",
    "        self._screen.tracer(0, 0)\n",
    "        turtle.hideturtle()\n",
    "        self._vertices_count = vertices_count\n",
    "        self._gen_dots()\n",
    "        self._draw_board()\n",
    "\n",
    "    def _gen_dots(self) -> None:\n",
    "        self._dots = []\n",
    "        for angle in range(0, 360, 360 // self._vertices_count):\n",
    "            self._dots.append((math.cos(math.radians(angle)),\n",
    "                               math.sin(math.radians(angle))))\n",
    "\n",
    "    def _draw_dot(self, x: float, y: float, color: str) -> None:\n",
    "        turtle.up()\n",
    "        turtle.goto(x, y)\n",
    "        turtle.color(color)\n",
    "        turtle.dot(15)\n",
    "\n",
    "    def _draw_line(self, p1: Dot, p2: Dot, color: str, pensize: int = 6) -> None:\n",
    "        turtle.up()\n",
    "        turtle.pensize(pensize)\n",
    "        turtle.goto(p1)\n",
    "        turtle.down()\n",
    "        turtle.color(color)\n",
    "        turtle.goto(p2)\n",
    "\n",
    "    def _draw_board(self) -> None:\n",
    "        for dot in self._dots:\n",
    "            self._draw_dot(dot[0], dot[1], 'dark gray')\n",
    "\n",
    "    def _lineToDots(self, line: Line) -> tuple[Dot, Dot]:\n",
    "        return ((math.cos(math.radians(line[0] * 360 // self._vertices_count)),\n",
    "                 math.sin(math.radians(line[0] * 360 // self._vertices_count))),\n",
    "                (math.cos(math.radians(line[1] * 360 // self._vertices_count)),\n",
    "                 math.sin(math.radians(line[1] * 360 // self._vertices_count))))\n",
    "\n",
    "    def draw(self, player_moves: dict[Player, list[Line]] = {}) -> None:\n",
    "        turtle.clear()\n",
    "        self._draw_board()\n",
    "        for color, moves in player_moves.items():\n",
    "            for move in moves:\n",
    "                self._draw_line(*self._lineToDots(move), color.value)\n",
    "        self._screen.update()\n",
    "\n",
    "    def show_triangle(self, triangle: tuple[Line, Line, Line]) -> None:\n",
    "        for line in triangle:\n",
    "            self._draw_line(*self._lineToDots(line), 'white', 3)\n",
    "        self._screen.update()\n",
    "\n",
    "    def close(self) -> None:\n",
    "        self._screen.bye()"
   ]
  },
  {
   "attachments": {},
   "cell_type": "markdown",
   "metadata": {},
   "source": [
    "The `show_triangle` function will show the triangle which made the player lose the game. It will make the triangle white."
   ]
  },
  {
   "cell_type": "code",
   "execution_count": 8,
   "metadata": {},
   "outputs": [],
   "source": [
    "class MinimaxNode:\n",
    "    _type: MinimaxType\n",
    "    _value: float\n",
    "    _children: dict[Line, 'MinimaxNode']\n",
    "    _parent: Union['MinimaxNode', None]\n",
    "    _move: Union[Line, None]\n",
    "    _player: Player\n",
    "    _depth: int\n",
    "    _max_depth: int\n",
    "    _prune: bool\n",
    "    _alpha: float\n",
    "    _beta: float\n",
    "    _available_moves: list[Line]\n",
    "    _player_moves: dict[Player, list[Line]]\n",
    "\n",
    "    def __init__(self, parent: Union['MinimaxNode', None] = None, available_moves: list[Line] = [],\n",
    "                 player_moves: dict[Player, list[Line]] = {}, prune: bool = False, max_depth: int = 1):\n",
    "        self._parent = parent\n",
    "        self._move = None\n",
    "        self._children = {}\n",
    "        self._value = 0\n",
    "        self._type = MinimaxType.MAX if not parent else ~parent._type\n",
    "        self._depth = 0 if not parent else parent._depth + 1\n",
    "        self._max_depth = parent._max_depth if parent else max_depth\n",
    "        self._player = Player.RED if not parent else ~parent._player\n",
    "        self._alpha = -math.inf if not parent else parent._alpha\n",
    "        self._beta = math.inf if not parent else parent._beta\n",
    "        self._available_moves = deepcopy(parent._available_moves) if parent else deepcopy(available_moves)\n",
    "        self._player_moves = {player: deepcopy(moves) for player, moves in parent._player_moves.items()} if parent else \\\n",
    "            {player: deepcopy(moves) for player, moves in player_moves.items()}\n",
    "        self._prune = parent._prune if parent else prune\n",
    "\n",
    "    def _evaluate(self) -> float:\n",
    "        w = winner(self._player_moves)[0]\n",
    "        if w is not None:\n",
    "            return math.inf if w == Player.RED else -math.inf\n",
    "        h = 0\n",
    "        for move in self._available_moves:\n",
    "            res = winner({self._player: self._player_moves[self._player] + [move]})[0]\n",
    "            if res:\n",
    "                h -= 1 # player is losing\n",
    "            res = winner({~self._player: self._player_moves[~self._player] + [move]})[0]\n",
    "            if res:\n",
    "                h += 1 # player is winning\n",
    "        return h if self._player == Player.RED else -h\n",
    "\n",
    "    def _minimax(self) -> tuple[float, int]:\n",
    "        if winner(self._player_moves)[0] is not None or self._depth == self._max_depth:\n",
    "            self._value = self._evaluate()\n",
    "            return self._value, self._depth\n",
    "        self._value = -math.inf if self._type == MinimaxType.MAX else math.inf\n",
    "        optimal_depth = 0\n",
    "        for move in deepcopy(self._available_moves):\n",
    "            self._available_moves.remove(move)\n",
    "            self._player_moves[self._player].append(move)\n",
    "            child = MinimaxNode(self)\n",
    "            self._children[move] = child\n",
    "            val, dep = child._minimax()\n",
    "\n",
    "            if self._type == MinimaxType.MAX:\n",
    "                if val > self._value:\n",
    "                    self._value = val\n",
    "                    self._move = move\n",
    "                    optimal_depth = dep\n",
    "                elif val == self._value and dep > optimal_depth:\n",
    "                    self._move = move\n",
    "                    optimal_depth = dep\n",
    "                self._alpha = max(self._alpha, self._value)\n",
    "            else:\n",
    "                if val < self._value:\n",
    "                    self._value = val\n",
    "                    self._move = move\n",
    "                    optimal_depth = dep\n",
    "                elif val == self._value and dep > optimal_depth:\n",
    "                    self._move = move\n",
    "                    optimal_depth = dep\n",
    "                self._beta = min(self._beta, self._value)\n",
    "\n",
    "            if self._prune and self._alpha >= self._beta:\n",
    "                break\n",
    "\n",
    "            self._player_moves[self._player].remove(move)\n",
    "            self._available_moves.append(move)\n",
    "\n",
    "        return self._value, optimal_depth\n",
    "\n",
    "    def get_best_move(self) -> Line:\n",
    "        self._minimax()\n",
    "        return self._move  # type: ignore"
   ]
  },
  {
   "attachments": {},
   "cell_type": "markdown",
   "metadata": {},
   "source": [
    "`MinimaxNode` is a class used in the mini-max algorithm. The algorithm will make a tree."
   ]
  },
  {
   "attachments": {},
   "cell_type": "markdown",
   "metadata": {},
   "source": [
    "### Heuristic\n",
    "\n",
    "As the heuristic, we should calculate the probability of the formation of a triangle by each player. As a result, first initialize the heuristic with 0. Then, for each line in `available_moves`, if the line will make a triangle, then decrease the heuristic by 1. If the other player will make a triangle, then increase the heuristic by 1. Finally, if the current player is *Red*, then return the heuristic, otherwise return the negative of the heuristic. Also, if the winner has been decided in the current state, then return the heuristic as $\\pm\\infty$ depending on the winner.  \n",
    "\n",
    "After running the algorithm for multiple times, I understood that the algorithm will not work properly if the maximum height for algorithm is more than 4. This is because for this level, the winner is decided in the leaf nodes of most of the paths. As a result, the algorithm will see that it will lose the game in either case and may choose a path which can make the player lose even in the next move. The reason is that we use mini-max algorithm for the games that the opponent acts smartly. However, in this game, the opponent acts randomly. So, even when the algorithm understands that all the paths will lead to the loss, if it chooses a path that may last longer, then it will have a higher chance of winning. This is why I changed the algorithm to take the loss height into account to choose the path. This change increased the performance of the algorithm."
   ]
  },
  {
   "cell_type": "code",
   "execution_count": 9,
   "metadata": {},
   "outputs": [],
   "source": [
    "class Sim:\n",
    "    _gui: Union[SimGui, None]\n",
    "    _turn: Player\n",
    "    _player_moves: dict[Player, list[Line]]\n",
    "    _available_moves: list[Line]\n",
    "    _minimax_depth: int\n",
    "    _prune: bool\n",
    "\n",
    "    def __init__(self, minimax_depth: int, prune: bool, gui: bool):\n",
    "        self._prune = prune\n",
    "        self._minimax_depth = minimax_depth\n",
    "        self._gui = SimGui('Game of Sim', 800, 800, VERTICES_COUNT) if gui else None\n",
    "\n",
    "    def _initialize(self) -> None:\n",
    "        self._available_moves = []\n",
    "        for i in range(0, VERTICES_COUNT):\n",
    "            for j in range(i, VERTICES_COUNT):\n",
    "                if i != j:\n",
    "                    self._available_moves.append((i, j))\n",
    "        self._turn = random.choice([Player.RED, Player.BLUE])\n",
    "        self._player_moves = {player: [] for player in Player}\n",
    "        if self._gui:\n",
    "            self._gui.draw()\n",
    "\n",
    "    def _swap_turn(self) -> None:\n",
    "        self._turn = ~self._turn\n",
    "\n",
    "    def _minimax(self) -> tuple[Line, float]:\n",
    "        root = MinimaxNode(available_moves=self._available_moves, player_moves=self._player_moves,\n",
    "                           prune=self._prune, max_depth=self._minimax_depth)\n",
    "        return root.get_best_move(), root._value\n",
    "\n",
    "    def _enemy_move(self) -> Line:\n",
    "        return random.choice(self._available_moves)\n",
    "\n",
    "    def _game_over(self) -> tuple[Union[Player, None], Union[tuple[Line, Line, Line], None]]:\n",
    "        return winner(self._player_moves)\n",
    "\n",
    "    def play(self) -> Player:\n",
    "        self._initialize()\n",
    "        while True:\n",
    "            selection = self._minimax()[0] if self._turn == Player.RED else self._enemy_move()\n",
    "            selection = tuple(sorted(selection))\n",
    "\n",
    "            if selection in self._player_moves.values():\n",
    "                raise Exception(\"Duplicate Move!\")\n",
    "\n",
    "            self._player_moves[self._turn].append(selection)\n",
    "            self._available_moves.remove(selection)\n",
    "            self._swap_turn()\n",
    "            if self._gui:\n",
    "                self._gui.draw(self._player_moves)\n",
    "                sleep(SLEEP_TIME)\n",
    "            res = self._game_over()\n",
    "            if res[0]:\n",
    "                if self._gui:\n",
    "                    self._gui.show_triangle(res[1])  # type: ignore\n",
    "                    sleep(SLEEP_TIME)\n",
    "                return res[0]\n",
    "\n",
    "    def close(self) -> None:\n",
    "        if self._gui:\n",
    "            self._gui.close()"
   ]
  },
  {
   "cell_type": "code",
   "execution_count": 9,
   "metadata": {},
   "outputs": [],
   "source": [
    "def calcWinChanceAndTime(depth: int, prune: bool, test_count: int) -> None:\n",
    "    game = Sim(minimax_depth=depth, prune=prune, gui=False)\n",
    "    start = timer()\n",
    "    result = {p: 0 for p in Player}\n",
    "    for i in range(test_count):\n",
    "        print(f\"Processing Test {i + 1}/{test_count}\", end=\"\\r\")\n",
    "        res = game.play()\n",
    "        result[res] += 1\n",
    "    end = timer()\n",
    "    print(result)\n",
    "    print(f\"Depth: {depth}, Prune: {prune}\")\n",
    "    print(f\"Time: {(end - start) / test_count:.4f}s\")\n",
    "    print(f\"Win chance: {result[Player.RED] * 100 // test_count}%\")\n",
    "    print()"
   ]
  },
  {
   "attachments": {},
   "cell_type": "markdown",
   "metadata": {},
   "source": [
    "## Results"
   ]
  },
  {
   "cell_type": "code",
   "execution_count": 20,
   "metadata": {},
   "outputs": [
    {
     "name": "stdout",
     "output_type": "stream",
     "text": [
      "Winner:  Player.RED\n"
     ]
    }
   ],
   "source": [
    "game = Sim(minimax_depth=5, prune=True, gui=True)\n",
    "res = game.play()\n",
    "print(\"Winner: \", res)\n",
    "game.close()"
   ]
  },
  {
   "cell_type": "code",
   "execution_count": 18,
   "metadata": {},
   "outputs": [
    {
     "name": "stdout",
     "output_type": "stream",
     "text": [
      "{<Player.RED: 'red'>: 99, <Player.BLUE: 'blue'>: 1}\n",
      "Depth: 1, Prune: False\n",
      "Time: 0.0047s\n",
      "Win chance: 99%\n",
      "\n",
      "{<Player.RED: 'red'>: 99, <Player.BLUE: 'blue'>: 1}\n",
      "Depth: 3, Prune: False\n",
      "Time: 0.4792s\n",
      "Win chance: 99%\n",
      "\n",
      "{<Player.RED: 'red'>: 50, <Player.BLUE: 'blue'>: 0}\n",
      "Depth: 5, Prune: False\n",
      "Time: 45.8823s\n",
      "Win chance: 100%\n",
      "\n"
     ]
    }
   ],
   "source": [
    "calcWinChanceAndTime(1, False, 100)\n",
    "calcWinChanceAndTime(3, False, 100)\n",
    "calcWinChanceAndTime(5, False, 50)"
   ]
  },
  {
   "attachments": {},
   "cell_type": "markdown",
   "metadata": {},
   "source": [
    "As the algorithm takes a long time to run for the maximum height of 5 without pruning, I ran the algorithm 50 times instead of 100 times."
   ]
  },
  {
   "cell_type": "code",
   "execution_count": 19,
   "metadata": {},
   "outputs": [
    {
     "name": "stdout",
     "output_type": "stream",
     "text": [
      "{<Player.RED: 'red'>: 99, <Player.BLUE: 'blue'>: 1}\n",
      "Depth: 1, Prune: True\n",
      "Time: 0.0047s\n",
      "Win chance: 99%\n",
      "\n",
      "{<Player.RED: 'red'>: 98, <Player.BLUE: 'blue'>: 2}\n",
      "Depth: 3, Prune: True\n",
      "Time: 0.0894s\n",
      "Win chance: 98%\n",
      "\n",
      "{<Player.RED: 'red'>: 100, <Player.BLUE: 'blue'>: 0}\n",
      "Depth: 5, Prune: True\n",
      "Time: 1.1692s\n",
      "Win chance: 100%\n",
      "\n",
      "{<Player.RED: 'red'>: 100, <Player.BLUE: 'blue'>: 0}\n",
      "Depth: 7, Prune: True\n",
      "Time: 12.4892s\n",
      "Win chance: 100%\n",
      "\n"
     ]
    }
   ],
   "source": [
    "calcWinChanceAndTime(1, True, 100)\n",
    "calcWinChanceAndTime(3, True, 100)\n",
    "calcWinChanceAndTime(5, True, 100)\n",
    "calcWinChanceAndTime(7, True, 100)"
   ]
  },
  {
   "attachments": {},
   "cell_type": "markdown",
   "metadata": {},
   "source": [
    "As it is shown, the algorithm time is decreased significantly by pruning. Also, the winning rate is over 98% in all cases, which shows the effectiveness of the algorithm and the heuristic."
   ]
  },
  {
   "attachments": {},
   "cell_type": "markdown",
   "metadata": {},
   "source": [
    "## Questions"
   ]
  },
  {
   "attachments": {},
   "cell_type": "markdown",
   "metadata": {},
   "source": [
    "### 1. What does a good heuristic look like? How did you design your heuristic?\n",
    "\n",
    "A good heuristic must predict the future state of the game well. In this game, we'd better use the probability of the formation of a triangle as the heuristic. As mentioned in the heuristic section, the heuristic is decreased by 1 for each line in the `available_moves` that makes a triangle for the current player and increased by 1 for each line in the `available_moves` that makes a triangle for the other player.  \n",
    "\n",
    "Another approach can be not taking the probability of the formation of a triangle by the opponent into account. This heuristic will not be as good as the previous one.\n",
    "\n",
    "Another approach is to calculate the degree of each vertex (the number of lines with the same color that are connected to the vertex). Then, the heuristic will be the sum of the degrees of the vertices. In this case, for two separate lines, the heuristic will be 4, and if the two lines are connected by a vertex, the heuristic will also be 4. However, the second case can lead to the formation of a triangle. So, this heuristic is not good. My heuristic will return 0 and 1 for the mentioned cases, respectively."
   ]
  },
  {
   "attachments": {},
   "cell_type": "markdown",
   "metadata": {},
   "source": [
    "### 2. What is the effect of increasing the depth of the search tree? \n",
    "\n",
    "As the depth of the search tree increases, the number of nodes which the algorithm will visit increases. As a result, the algorithm will take more time to run. However, the increase in the accuracy can depend on the algorithm. As mentioned in heuristic section, if we take the depth of the loss into account, then the algorithm will be more accurate. Otherwise, the accuracy will decrease as the depth increases.\n",
    "\n",
    "$$statesCount = \\dfrac{(15 - {currentDepth})!}{(15 - {currentDepth} - n)!}$$\n",
    "$$if\\ n = 7\\ \\&\\ currentDepth = 0\\ (root)\\longrightarrow statesCount = \\dfrac{15!}{8!} = 32,432,400$$"
   ]
  },
  {
   "attachments": {},
   "cell_type": "markdown",
   "metadata": {},
   "source": [
    "### 3. what is the effect in ordering the nodes when pruning the search tree?\n",
    "\n",
    "When we use pruning, the order of nodes is important. If we visit the nodes in the wrong order, then we may not be able to prune the nodes well. In this problem, we don't use a specific order at first. However, it is better not to change the initial order of the nodes when running the algorithm."
   ]
  }
 ],
 "metadata": {
  "kernelspec": {
   "display_name": "Python 3",
   "language": "python",
   "name": "python3"
  },
  "language_info": {
   "codemirror_mode": {
    "name": "ipython",
    "version": 3
   },
   "file_extension": ".py",
   "mimetype": "text/x-python",
   "name": "python",
   "nbconvert_exporter": "python",
   "pygments_lexer": "ipython3",
   "version": "3.11.0 (main, Oct 24 2022, 18:26:48) [MSC v.1933 64 bit (AMD64)]"
  },
  "orig_nbformat": 4,
  "vscode": {
   "interpreter": {
    "hash": "c261aea317cc0286b3b3261fbba9abdec21eaa57589985bb7a274bf54d6cc0a7"
   }
  }
 },
 "nbformat": 4,
 "nbformat_minor": 2
}
